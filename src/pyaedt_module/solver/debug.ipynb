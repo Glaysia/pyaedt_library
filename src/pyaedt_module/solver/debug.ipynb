{
 "cells": [
  {
   "cell_type": "code",
   "execution_count": 1,
   "metadata": {},
   "outputs": [
    {
     "data": {
      "text/plain": [
       "['P_Txx',\n",
       " 'P_Rxx',\n",
       " 'P_corex',\n",
       " 'B_mean_leg_leftx',\n",
       " 'B_mean_leg_rightx',\n",
       " 'B_mean_leg_topx',\n",
       " 'B_mean_leg_bottomx']"
      ]
     },
     "execution_count": 1,
     "metadata": {},
     "output_type": "execute_result"
    }
   ],
   "source": [
    "name = \"x\"\n",
    "mod = \"write\"\n",
    "\n",
    "parameters = [\n",
    "        [1, f\"P_Tx{name}\", \"EMLoss\"],\n",
    "        [2 , f\"P_Rx{name}\", \"EMLoss\"],\n",
    "        [3, f\"P_core{name}\", \"CoreLoss\"],\n",
    "        [4, f\"B_mean_leg_left{name}\", \"B_mean\"],\n",
    "        [5, f\"B_mean_leg_right{name}\", \"B_mean\"],\n",
    "        [6, f\"B_mean_leg_top{name}\", \"B_mean\"],\n",
    "        [7, f\"B_mean_leg_bottom{name}\", \"B_mean\"],\n",
    "    ]\n",
    "\n",
    "name_list = [item[1] for item in parameters]\n",
    "\n",
    "name_list"
   ]
  },
  {
   "cell_type": "code",
   "execution_count": null,
   "metadata": {},
   "outputs": [],
   "source": [
    "\n",
    "\n",
    "if mod == \"write\" :\n",
    "    result_expressions, _ = self._add_calculator_expression(parameters=parameters)\n",
    "    report = self._create_report(report_name = \"calculator_report\", result_expressions = result_expressions, category = \"Fields\")\n",
    "\n",
    "export_data = self.post.export_report_to_csv(project_dir=dir, plot_name=report.plot_name)\n",
    "data = pd.read_csv(export_data)\n",
    "\n",
    "columns_to_keep = [col for col in data.columns if any(col.startswith(prefix) for prefix in name_list)]\n",
    "data = data[columns_to_keep]\n",
    "data.columns = name_list\n",
    "return data"
   ]
  }
 ],
 "metadata": {
  "kernelspec": {
   "display_name": "pyaedt_015",
   "language": "python",
   "name": "python3"
  },
  "language_info": {
   "codemirror_mode": {
    "name": "ipython",
    "version": 3
   },
   "file_extension": ".py",
   "mimetype": "text/x-python",
   "name": "python",
   "nbconvert_exporter": "python",
   "pygments_lexer": "ipython3",
   "version": "3.11.11"
  }
 },
 "nbformat": 4,
 "nbformat_minor": 2
}
