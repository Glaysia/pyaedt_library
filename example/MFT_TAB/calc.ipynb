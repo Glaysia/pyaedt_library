{
 "cells": [
  {
   "cell_type": "code",
   "execution_count": 6,
   "id": "010a8d98",
   "metadata": {},
   "outputs": [
    {
     "data": {
      "text/plain": [
       "740.068963779821"
      ]
     },
     "execution_count": 6,
     "metadata": {},
     "output_type": "execute_result"
    }
   ],
   "source": [
    "cm=2.315\n",
    "x=1.4472\n",
    "y=2.4769\n",
    "\n",
    "f = 100e+3\n",
    "B = 0.2\n",
    "\n",
    "cm * f**1.4472 * B**2.4769 / 1e+3\n",
    "\n",
    "\n",
    "\n",
    "\n",
    "\n",
    "\n",
    "\n"
   ]
  },
  {
   "cell_type": "code",
   "execution_count": null,
   "id": "e61090f5",
   "metadata": {},
   "outputs": [],
   "source": []
  }
 ],
 "metadata": {
  "kernelspec": {
   "display_name": "deap_25v1",
   "language": "python",
   "name": "python3"
  },
  "language_info": {
   "codemirror_mode": {
    "name": "ipython",
    "version": 3
   },
   "file_extension": ".py",
   "mimetype": "text/x-python",
   "name": "python",
   "nbconvert_exporter": "python",
   "pygments_lexer": "ipython3",
   "version": "3.11.11"
  }
 },
 "nbformat": 4,
 "nbformat_minor": 5
}
