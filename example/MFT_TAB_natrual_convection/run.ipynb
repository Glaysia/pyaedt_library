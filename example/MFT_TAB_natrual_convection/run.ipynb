{
 "cells": [
  {
   "cell_type": "code",
   "execution_count": null,
   "metadata": {},
   "outputs": [],
   "source": [
    "import subprocess\n",
    "import time\n",
    "import os\n",
    "\n",
    "script_name = \"subprocess_run.py\"\n",
    "script_path = os.path.join(os.getcwd(), script_name)\n",
    "\n",
    "# subprocess_run.py 실행\n",
    "process = subprocess.Popen(\n",
    "    f'python {script_path}',\n",
    "    shell=True,\n",
    "    stdout=subprocess.PIPE,\n",
    "    stderr=subprocess.STDOUT\n",
    ")\n",
    "\n",
    "# 프로세스 완료 대기\n",
    "process.wait()\n",
    "\n",
    "print(f\"Process finished with return code {process.returncode}\")\n"
   ]
  },
  {
   "cell_type": "code",
   "execution_count": 1,
   "metadata": {},
   "outputs": [
    {
     "name": "stdout",
     "output_type": "stream",
     "text": [
      "FutureWarning: Module 'pyaedt' has become an alias to the new package structure. Please update you imports to use the new architecture based on 'ansys.aedt.core'. In addition, some files have been renamed to follow the PEP 8 naming convention. The old structure and file names will be deprecated in future versions, see https://aedt.docs.pyansys.com/version/stable/release_1_0.html\n",
      "2025-07-26 21:48:45,926 - INFO - ==========simulation29==========\n",
      "PyAEDT INFO: Python version 3.11.11 | packaged by Anaconda, Inc. | (main, Dec 11 2024, 16:34:19) [MSC v.1929 64 bit (AMD64)].\n",
      "2025-07-26 21:48:45,927 - INFO - Python version 3.11.11 | packaged by Anaconda, Inc. | (main, Dec 11 2024, 16:34:19) [MSC v.1929 64 bit (AMD64)].\n",
      "PyAEDT INFO: PyAEDT version 0.15.0.\n",
      "2025-07-26 21:48:45,929 - INFO - PyAEDT version 0.15.0.\n",
      "PyAEDT INFO: Initializing new Desktop session.\n",
      "2025-07-26 21:48:45,930 - INFO - Initializing new Desktop session.\n",
      "PyAEDT INFO: Log on console is enabled.\n",
      "2025-07-26 21:48:45,932 - INFO - Log on console is enabled.\n",
      "PyAEDT INFO: Log on file C:\\Users\\NEC_59~1\\AppData\\Local\\Temp\\pyaedt_NEC_5950X1_1e332609-f9c6-4e35-9428-483519037b85.log is enabled.\n",
      "2025-07-26 21:48:45,933 - INFO - Log on file C:\\Users\\NEC_59~1\\AppData\\Local\\Temp\\pyaedt_NEC_5950X1_1e332609-f9c6-4e35-9428-483519037b85.log is enabled.\n",
      "PyAEDT INFO: Log on AEDT is enabled.\n",
      "2025-07-26 21:48:45,934 - INFO - Log on AEDT is enabled.\n",
      "PyAEDT INFO: Debug logger is disabled. PyAEDT methods will not be logged.\n",
      "2025-07-26 21:48:45,936 - INFO - Debug logger is disabled. PyAEDT methods will not be logged.\n",
      "PyAEDT INFO: Launching PyAEDT with gRPC plugin.\n",
      "2025-07-26 21:48:45,937 - INFO - Launching PyAEDT with gRPC plugin.\n",
      "PyAEDT INFO: New AEDT session is starting on gRPC port 56540.\n",
      "2025-07-26 21:48:46,435 - INFO - New AEDT session is starting on gRPC port 56540.\n",
      "PyAEDT ERROR: Error getting status: Cannot connect to license server system. (-15,10:10061 \"WinSock: Connection refused\")\n",
      "2025-07-26 21:48:51,011 - ERROR - Error getting status: Cannot connect to license server system. (-15,10:10061 \"WinSock: Connection refused\")\n",
      "PyAEDT WARNING: Electronics Desktop license not found on the default license server.\n",
      "2025-07-26 21:48:51,012 - WARNING - Electronics Desktop license not found on the default license server.\n",
      "PyAEDT WARNING: Failed to start on gRPC port: 56540. Trying to start on 56583.\n",
      "2025-07-26 21:50:51,074 - WARNING - Failed to start on gRPC port: 56540. Trying to start on 56583.\n",
      "PyAEDT ERROR: Error getting status: Cannot connect to license server system. (-15,10:10061 \"WinSock: Connection refused\")\n",
      "2025-07-26 21:51:11,049 - ERROR - Error getting status: Cannot connect to license server system. (-15,10:10061 \"WinSock: Connection refused\")\n",
      "PyAEDT WARNING: Electronics Desktop license not found on the default license server.\n",
      "2025-07-26 21:51:11,050 - WARNING - Electronics Desktop license not found on the default license server.\n",
      "PyAEDT INFO: Electronics Desktop started on gRPC port: 56583 after 10.998790502548218 seconds.\n",
      "2025-07-26 21:51:22,051 - INFO - Electronics Desktop started on gRPC port: 56583 after 10.998790502548218 seconds.\n",
      "PyAEDT INFO: AEDT installation Path C:\\Program Files\\AnsysEM\\v242\\Win64\n",
      "2025-07-26 21:51:22,053 - INFO - AEDT installation Path C:\\Program Files\\AnsysEM\\v242\\Win64\n",
      "PyAEDT INFO: Ansoft.ElectronicsDesktop.2024.2 version started with process ID 35720.\n",
      "2025-07-26 21:51:22,217 - INFO - Ansoft.ElectronicsDesktop.2024.2 version started with process ID 35720.\n",
      "PyAEDT INFO: Python version 3.11.11 | packaged by Anaconda, Inc. | (main, Dec 11 2024, 16:34:19) [MSC v.1929 64 bit (AMD64)].\n",
      "2025-07-26 21:51:22,494 - INFO - Python version 3.11.11 | packaged by Anaconda, Inc. | (main, Dec 11 2024, 16:34:19) [MSC v.1929 64 bit (AMD64)].\n",
      "PyAEDT INFO: PyAEDT version 0.15.0.\n",
      "2025-07-26 21:51:22,496 - INFO - PyAEDT version 0.15.0.\n",
      "PyAEDT INFO: Returning found Desktop session with PID 35720!\n",
      "2025-07-26 21:51:22,498 - INFO - Returning found Desktop session with PID 35720!\n",
      "PyAEDT INFO: No project is defined. Project Project_JWU exists and has been read.\n",
      "2025-07-26 21:51:22,516 - INFO - No project is defined. Project Project_JWU exists and has been read.\n",
      "PyAEDT INFO: Added design 'SST_MFT' of type Maxwell 3D.\n",
      "2025-07-26 21:51:46,674 - INFO - Added design 'SST_MFT' of type Maxwell 3D.\n",
      "PyAEDT INFO: Aedt Objects correctly read\n",
      "2025-07-26 21:51:46,993 - INFO - Aedt Objects correctly read\n",
      "2025-07-26 21:51:46,995 - INFO - input_parameter : {'N1': 5, 'N2': 5, 'N1_layer': 1, 'N2_layer': 1, 'frequency': 20, 'per': 3000, 'w1': 144.9, 'l1_top': 31.977, 'l1_top_ratio': 0.99, 'l1_side_ratio': 0.8, 'l1_center': 64.6, 'l1_side': 25.84, 'l2': 91.61375, 'l2_gap': 8.3, 'h1': 217.5, 'h1_gap': 7.395, 'h2_gap': 20.77125, 'N1_height_ratio': 0.9, 'N1_fill_factor': 0.83, 'N1_coil_diameter': 27.07875, 'N1_coil_zgap': 6.6555, 'N2_height_ratio': 0.8, 'N2_fill_factor': 0.83, 'N2_coil_diameter': 12.035, 'N2_coil_zgap': 2.958, 'N1_space_w': 5, 'N1_space_l': 5, 'N2_space_w': 12.9, 'N2_space_l': 18.7, 'N1_layer_gap': 10, 'N2_layer_gap': 5.9, 'N1_offset_ratio': -0.32, 'N2_offset_ratio': 0.09, 'N1_offset': -3.48, 'N2_offset': 0.97875, 'cold_plate_x': 0, 'cold_plate_y': 0, 'cold_plate_z1': 30.7, 'cold_plate_z2': 0, 'mold_thick': 20.5, 'thermal_conductivity': 0.4, 'winding_thermal_ratio': 0.5, 'wind_speed': 5}\n",
      "2025-07-26 21:51:46,995 - INFO - input_parameter : 5.0,5.0,1.0,1.0,20.0,3000.0,144.9,31.977,0.99,0.8,64.6,25.84,91.61375,8.3,217.5,7.395,20.77125,0.9,0.83,27.07875,6.6555,0.8,0.83,12.035,2.958,5.0,5.0,12.9,18.7,10.0,5.9,-0.32,0.09,-3.48,0.97875,0.0,0.0,30.7,0.0,20.5,0.4,0.5,5.0\n",
      "Ansys 디자인 변수가 설정되었습니다.\n",
      "PyAEDT INFO: Materials class has been initialized! Elapsed time: 0m 0sec\n",
      "2025-07-26 21:51:48,220 - INFO - Materials class has been initialized! Elapsed time: 0m 0sec\n",
      "PyAEDT INFO: Modeler class has been initialized! Elapsed time: 0m 3sec\n",
      "2025-07-26 21:51:53,160 - INFO - Modeler class has been initialized! Elapsed time: 0m 3sec\n",
      "PyAEDT INFO: Parsing design objects. This operation can take time\n",
      "2025-07-26 21:51:53,992 - INFO - Parsing design objects. This operation can take time\n",
      "PyAEDT INFO: Refreshing bodies from Object Info\n",
      "2025-07-26 21:51:54,005 - INFO - Refreshing bodies from Object Info\n",
      "PyAEDT INFO: Bodies Info Refreshed Elapsed time: 0m 0sec\n",
      "2025-07-26 21:51:54,027 - INFO - Bodies Info Refreshed Elapsed time: 0m 0sec\n",
      "PyAEDT INFO: 3D Modeler objects parsed. Elapsed time: 0m 0sec\n",
      "2025-07-26 21:51:54,062 - INFO - 3D Modeler objects parsed. Elapsed time: 0m 0sec\n",
      "Core created successfully.\n",
      "Winding 'winding1' created successfully.\n",
      "Winding 'winding2' created successfully.\n",
      "Winding 'winding3' created successfully.\n",
      "PyAEDT INFO: Parsing design objects. This operation can take time\n",
      "2025-07-26 21:51:59,004 - INFO - Parsing design objects. This operation can take time\n",
      "PyAEDT INFO: Refreshing bodies from Object Info\n",
      "2025-07-26 21:51:59,011 - INFO - Refreshing bodies from Object Info\n",
      "PyAEDT INFO: Bodies Info Refreshed Elapsed time: 0m 0sec\n",
      "2025-07-26 21:51:59,029 - INFO - Bodies Info Refreshed Elapsed time: 0m 0sec\n",
      "PyAEDT INFO: 3D Modeler objects parsed. Elapsed time: 0m 0sec\n",
      "2025-07-26 21:51:59,054 - INFO - 3D Modeler objects parsed. Elapsed time: 0m 0sec\n",
      "Top cold plate created successfully.\n",
      "PyAEDT INFO: Parsing design objects. This operation can take time\n",
      "2025-07-26 21:51:59,511 - INFO - Parsing design objects. This operation can take time\n",
      "PyAEDT INFO: Refreshing bodies from Object Info\n",
      "2025-07-26 21:51:59,518 - INFO - Refreshing bodies from Object Info\n",
      "PyAEDT INFO: Bodies Info Refreshed Elapsed time: 0m 0sec\n",
      "2025-07-26 21:51:59,537 - INFO - Bodies Info Refreshed Elapsed time: 0m 0sec\n",
      "PyAEDT INFO: 3D Modeler objects parsed. Elapsed time: 0m 0sec\n",
      "2025-07-26 21:51:59,562 - INFO - 3D Modeler objects parsed. Elapsed time: 0m 0sec\n",
      "Bottom cold plate created successfully.\n",
      "PyAEDT INFO: Boundary Radiation Radiation has been created.\n",
      "2025-07-26 21:51:59,926 - INFO - Boundary Radiation Radiation has been created.\n",
      "Air region and radiation boundary created successfully.\n",
      "PyAEDT INFO: Mesh class has been initialized! Elapsed time: 0m 0sec\n",
      "2025-07-26 21:51:59,933 - INFO - Mesh class has been initialized! Elapsed time: 0m 0sec\n",
      "PyAEDT INFO: Mesh class has been initialized! Elapsed time: 0m 0sec\n",
      "2025-07-26 21:51:59,939 - INFO - Mesh class has been initialized! Elapsed time: 0m 0sec\n",
      "Mesh operations assigned successfully.\n",
      "PyAEDT INFO: Boundary CoilTerminal Tx_in has been created.\n",
      "2025-07-26 21:52:00,875 - INFO - Boundary CoilTerminal Tx_in has been created.\n",
      "PyAEDT INFO: Boundary CoilTerminal Tx_out has been created.\n",
      "2025-07-26 21:52:01,025 - INFO - Boundary CoilTerminal Tx_out has been created.\n",
      "PyAEDT INFO: Boundary CoilTerminal Rx1_in has been created.\n",
      "2025-07-26 21:52:01,174 - INFO - Boundary CoilTerminal Rx1_in has been created.\n",
      "PyAEDT INFO: Boundary CoilTerminal Rx1_out has been created.\n",
      "2025-07-26 21:52:01,620 - INFO - Boundary CoilTerminal Rx1_out has been created.\n",
      "PyAEDT INFO: Boundary CoilTerminal Rx2_in has been created.\n",
      "2025-07-26 21:52:01,906 - INFO - Boundary CoilTerminal Rx2_in has been created.\n",
      "PyAEDT INFO: Boundary CoilTerminal Rx2_out has been created.\n",
      "2025-07-26 21:52:02,117 - INFO - Boundary CoilTerminal Rx2_out has been created.\n",
      "PyAEDT INFO: Boundary Winding Tx_Winding has been created.\n",
      "2025-07-26 21:52:02,326 - INFO - Boundary Winding Tx_Winding has been created.\n",
      "PyAEDT INFO: Boundary Winding Rx1_Winding has been created.\n",
      "2025-07-26 21:52:02,532 - INFO - Boundary Winding Rx1_Winding has been created.\n",
      "PyAEDT INFO: Boundary Winding Rx2_Winding has been created.\n",
      "2025-07-26 21:52:02,737 - INFO - Boundary Winding Rx2_Winding has been created.\n",
      "PyAEDT INFO: Infinite is the only return path option in EddyCurrent.\n",
      "2025-07-26 21:52:03,279 - INFO - Infinite is the only return path option in EddyCurrent.\n",
      "PyAEDT INFO: Boundary Matrix Matrix has been created.\n",
      "2025-07-26 21:52:03,597 - INFO - Boundary Matrix Matrix has been created.\n",
      "Excitations assigned successfully.\n",
      "2025-07-26 21:52:06,193 - INFO - Maxwell analysis started...\n",
      "PyAEDT INFO: Key Desktop/ActiveDSOConfigurations/Maxwell 3D correctly changed.\n",
      "2025-07-26 21:52:06,503 - INFO - Key Desktop/ActiveDSOConfigurations/Maxwell 3D correctly changed.\n",
      "PyAEDT INFO: Solving all design setups.\n",
      "2025-07-26 21:52:06,515 - INFO - Solving all design setups.\n",
      "PyAEDT INFO: Key Desktop/ActiveDSOConfigurations/Maxwell 3D correctly changed.\n",
      "2025-07-26 21:54:16,836 - INFO - Key Desktop/ActiveDSOConfigurations/Maxwell 3D correctly changed.\n",
      "PyAEDT INFO: Design setup None solved correctly in 0.0h 2.0m 11.0s\n",
      "2025-07-26 21:54:16,869 - INFO - Design setup None solved correctly in 0.0h 2.0m 11.0s\n",
      "2025-07-26 21:54:16,870 - INFO - Maxwell analysis finished. Duration: 130.68 seconds.\n",
      "PyAEDT INFO: Parsing y:/git/insulation_amp/pyaedt_library/example/MFT_TAB/simulation/simulation28/simulation28.aedt.\n",
      "2025-07-26 21:54:16,925 - INFO - Parsing y:/git/insulation_amp/pyaedt_library/example/MFT_TAB/simulation/simulation28/simulation28.aedt.\n",
      "PyAEDT INFO: File y:/git/insulation_amp/pyaedt_library/example/MFT_TAB/simulation/simulation28/simulation28.aedt correctly loaded. Elapsed time: 0m 0sec\n",
      "2025-07-26 21:54:17,267 - INFO - File y:/git/insulation_amp/pyaedt_library/example/MFT_TAB/simulation/simulation28/simulation28.aedt correctly loaded. Elapsed time: 0m 0sec\n",
      "PyAEDT INFO: aedt file load time 0.3753194808959961\n",
      "2025-07-26 21:54:17,299 - INFO - aedt file load time 0.3753194808959961\n",
      "PyAEDT INFO: PostProcessor class has been initialized! Elapsed time: 0m 0sec\n",
      "2025-07-26 21:54:17,378 - INFO - PostProcessor class has been initialized! Elapsed time: 0m 0sec\n",
      "PyAEDT INFO: Post class has been initialized! Elapsed time: 0m 0sec\n",
      "2025-07-26 21:54:17,409 - INFO - Post class has been initialized! Elapsed time: 0m 0sec\n",
      "PyAEDT INFO: Export Convergence to  y:\\git\\insulation_amp\\pyaedt_library\\example\\MFT_TAB\\simulation\\simulation28\\simulation28.pyaedt\\SST_MFT\\Convergence_ASAWO4.prop\n",
      "2025-07-26 21:54:28,550 - INFO - Export Convergence to  y:\\git\\insulation_amp\\pyaedt_library\\example\\MFT_TAB\\simulation\\simulation28\\simulation28.pyaedt\\SST_MFT\\Convergence_ASAWO4.prop\n",
      "PyAEDT INFO: Active Design set to SST_MFT1\n",
      "2025-07-26 21:54:37,372 - INFO - Active Design set to SST_MFT1\n",
      "PyAEDT INFO: Active Design set to SST_MFT1\n",
      "2025-07-26 21:54:37,479 - INFO - Active Design set to SST_MFT1\n",
      "PyAEDT INFO: Python version 3.11.11 | packaged by Anaconda, Inc. | (main, Dec 11 2024, 16:34:19) [MSC v.1929 64 bit (AMD64)].\n",
      "2025-07-26 21:54:37,743 - INFO - Python version 3.11.11 | packaged by Anaconda, Inc. | (main, Dec 11 2024, 16:34:19) [MSC v.1929 64 bit (AMD64)].\n",
      "PyAEDT INFO: PyAEDT version 0.15.0.\n",
      "2025-07-26 21:54:37,745 - INFO - PyAEDT version 0.15.0.\n",
      "PyAEDT INFO: Returning found Desktop session with PID 35720!\n",
      "2025-07-26 21:54:37,747 - INFO - Returning found Desktop session with PID 35720!\n",
      "PyAEDT INFO: No project is defined. Project simulation28 exists and has been read.\n",
      "2025-07-26 21:54:37,785 - INFO - No project is defined. Project simulation28 exists and has been read.\n",
      "PyAEDT INFO: Active Design set to SST_MFT1\n",
      "2025-07-26 21:54:37,988 - INFO - Active Design set to SST_MFT1\n",
      "PyAEDT INFO: Aedt Objects correctly read\n",
      "2025-07-26 21:54:38,640 - INFO - Aedt Objects correctly read\n",
      "PyAEDT INFO: Modeler class has been initialized! Elapsed time: 0m 0sec\n",
      "2025-07-26 21:54:39,014 - INFO - Modeler class has been initialized! Elapsed time: 0m 0sec\n",
      "PyAEDT WARNING: Key Current not found. Trying to applying new key \n",
      "2025-07-26 21:54:41,917 - WARNING - Key Current not found. Trying to applying new key \n",
      "PyAEDT WARNING: Key Current not found. Trying to applying new key \n",
      "2025-07-26 21:54:42,116 - WARNING - Key Current not found. Trying to applying new key \n",
      "PyAEDT WARNING: Key Current not found. Trying to applying new key \n",
      "2025-07-26 21:54:42,301 - WARNING - Key Current not found. Trying to applying new key \n",
      "2025-07-26 21:54:47,729 - INFO - Maxwell analysis started...\n",
      "PyAEDT INFO: Key Desktop/ActiveDSOConfigurations/Maxwell 3D correctly changed.\n",
      "2025-07-26 21:54:47,957 - INFO - Key Desktop/ActiveDSOConfigurations/Maxwell 3D correctly changed.\n",
      "PyAEDT INFO: Solving all design setups.\n",
      "2025-07-26 21:54:47,984 - INFO - Solving all design setups.\n",
      "PyAEDT INFO: Key Desktop/ActiveDSOConfigurations/Maxwell 3D correctly changed.\n",
      "2025-07-26 21:56:26,534 - INFO - Key Desktop/ActiveDSOConfigurations/Maxwell 3D correctly changed.\n",
      "PyAEDT INFO: Design setup None solved correctly in 0.0h 1.0m 39.0s\n",
      "2025-07-26 21:56:26,571 - INFO - Design setup None solved correctly in 0.0h 1.0m 39.0s\n",
      "2025-07-26 21:56:26,572 - INFO - Maxwell analysis finished. Duration: 98.84 seconds.\n",
      "PyAEDT INFO: Export Convergence to  y:\\git\\insulation_amp\\pyaedt_library\\example\\MFT_TAB\\simulation\\simulation28\\simulation28.pyaedt\\SST_MFT1\\Convergence_YF069Y.prop\n",
      "2025-07-26 21:56:29,741 - INFO - Export Convergence to  y:\\git\\insulation_amp\\pyaedt_library\\example\\MFT_TAB\\simulation\\simulation28\\simulation28.pyaedt\\SST_MFT1\\Convergence_YF069Y.prop\n",
      "PyAEDT INFO: Active Design set to IcepakDesign1\n",
      "2025-07-26 21:56:33,680 - INFO - Active Design set to IcepakDesign1\n",
      "PyAEDT INFO: Active Design set to IcepakDesign1\n",
      "2025-07-26 21:56:33,788 - INFO - Active Design set to IcepakDesign1\n",
      "PyAEDT INFO: Python version 3.11.11 | packaged by Anaconda, Inc. | (main, Dec 11 2024, 16:34:19) [MSC v.1929 64 bit (AMD64)].\n",
      "2025-07-26 21:56:34,059 - INFO - Python version 3.11.11 | packaged by Anaconda, Inc. | (main, Dec 11 2024, 16:34:19) [MSC v.1929 64 bit (AMD64)].\n",
      "PyAEDT INFO: PyAEDT version 0.15.0.\n",
      "2025-07-26 21:56:34,060 - INFO - PyAEDT version 0.15.0.\n",
      "PyAEDT INFO: Returning found Desktop session with PID 35720!\n",
      "2025-07-26 21:56:34,066 - INFO - Returning found Desktop session with PID 35720!\n",
      "PyAEDT INFO: No project is defined. Project simulation28 exists and has been read.\n",
      "2025-07-26 21:56:34,202 - INFO - No project is defined. Project simulation28 exists and has been read.\n",
      "PyAEDT INFO: Active Design set to IcepakDesign1\n",
      "2025-07-26 21:56:34,409 - INFO - Active Design set to IcepakDesign1\n",
      "PyAEDT INFO: Aedt Objects correctly read\n",
      "2025-07-26 21:56:34,444 - INFO - Aedt Objects correctly read\n",
      "PyAEDT INFO: Modeler class has been initialized! Elapsed time: 0m 0sec\n",
      "2025-07-26 21:56:34,570 - INFO - Modeler class has been initialized! Elapsed time: 0m 0sec\n",
      "PyAEDT INFO: Materials class has been initialized! Elapsed time: 0m 0sec\n",
      "2025-07-26 21:56:34,622 - INFO - Materials class has been initialized! Elapsed time: 0m 0sec\n",
      "PyAEDT INFO: Parsing y:/git/insulation_amp/pyaedt_library/example/MFT_TAB/simulation/simulation28/simulation28.aedt.\n",
      "2025-07-26 21:56:42,779 - INFO - Parsing y:/git/insulation_amp/pyaedt_library/example/MFT_TAB/simulation/simulation28/simulation28.aedt.\n",
      "PyAEDT INFO: File y:/git/insulation_amp/pyaedt_library/example/MFT_TAB/simulation/simulation28/simulation28.aedt correctly loaded. Elapsed time: 0m 1sec\n",
      "2025-07-26 21:56:43,661 - INFO - File y:/git/insulation_amp/pyaedt_library/example/MFT_TAB/simulation/simulation28/simulation28.aedt correctly loaded. Elapsed time: 0m 1sec\n",
      "PyAEDT INFO: aedt file load time 0.9077725410461426\n",
      "2025-07-26 21:56:43,687 - INFO - aedt file load time 0.9077725410461426\n",
      "PyAEDT INFO: Boundary SourceIcepak cold_plate has been created.\n",
      "2025-07-26 21:56:44,211 - INFO - Boundary SourceIcepak cold_plate has been created.\n",
      "2025-07-26 21:56:44,213 - INFO - Icepak analysis started...\n",
      "PyAEDT INFO: Key Desktop/ActiveDSOConfigurations/Icepak correctly changed.\n",
      "2025-07-26 21:56:44,489 - INFO - Key Desktop/ActiveDSOConfigurations/Icepak correctly changed.\n",
      "PyAEDT INFO: Solving all design setups.\n",
      "2025-07-26 21:56:44,513 - INFO - Solving all design setups.\n",
      "PyAEDT INFO: Key Desktop/ActiveDSOConfigurations/Icepak correctly changed.\n",
      "2025-07-26 22:02:06,697 - INFO - Key Desktop/ActiveDSOConfigurations/Icepak correctly changed.\n",
      "PyAEDT INFO: Design setup None solved correctly in 0.0h 5.0m 22.0s\n",
      "2025-07-26 22:02:06,723 - INFO - Design setup None solved correctly in 0.0h 5.0m 22.0s\n",
      "2025-07-26 22:02:06,724 - INFO - Icepak analysis finished. Duration: 322.51 seconds.\n",
      "PyAEDT INFO: PostProcessor class has been initialized! Elapsed time: 0m 0sec\n",
      "2025-07-26 22:02:07,849 - INFO - PostProcessor class has been initialized! Elapsed time: 0m 0sec\n",
      "PyAEDT INFO: Post class has been initialized! Elapsed time: 0m 0sec\n",
      "2025-07-26 22:02:07,874 - INFO - Post class has been initialized! Elapsed time: 0m 0sec\n",
      "2025-07-26 22:02:36,889 - INFO - Results saved to simulation_results.csv\n"
     ]
    }
   ],
   "source": [
    "import run_simulation\n",
    "run_simulation.main(test=True)"
   ]
  },
  {
   "cell_type": "code",
   "execution_count": 1,
   "metadata": {},
   "outputs": [
    {
     "name": "stdout",
     "output_type": "stream",
     "text": [
      "FutureWarning: Module 'pyaedt' has become an alias to the new package structure. Please update you imports to use the new architecture based on 'ansys.aedt.core'. In addition, some files have been renamed to follow the PEP 8 naming convention. The old structure and file names will be deprecated in future versions, see https://aedt.docs.pyansys.com/version/stable/release_1_0.html\n",
      "==========simulation11==========\n",
      "PyAEDT INFO: Python version 3.11.11 | packaged by Anaconda, Inc. | (main, Dec 11 2024, 16:34:19) [MSC v.1929 64 bit (AMD64)].\n",
      "PyAEDT INFO: PyAEDT version 0.15.0.\n",
      "PyAEDT INFO: Initializing new Desktop session.\n",
      "PyAEDT INFO: Log on console is enabled.\n",
      "PyAEDT INFO: Log on file C:\\Users\\NEC_59~1\\AppData\\Local\\Temp\\pyaedt_NEC_5950X1_ee279672-147a-4732-8a75-b6156299ca7a.log is enabled.\n",
      "PyAEDT INFO: Log on AEDT is enabled.\n",
      "PyAEDT INFO: Debug logger is disabled. PyAEDT methods will not be logged.\n",
      "PyAEDT INFO: Launching PyAEDT with gRPC plugin.\n",
      "PyAEDT INFO: New AEDT session is starting on gRPC port 50000.\n",
      "PyAEDT ERROR: Error getting status: Cannot connect to license server system. (-15,10:10061 \"WinSock: Connection refused\")\n",
      "PyAEDT WARNING: Electronics Desktop license not found on the default license server.\n",
      "PyAEDT INFO: Electronics Desktop started on gRPC port: 50000 after 6.900363206863403 seconds.\n",
      "PyAEDT INFO: AEDT installation Path C:\\Program Files\\AnsysEM\\v242\\Win64\n",
      "PyAEDT INFO: Ansoft.ElectronicsDesktop.2024.2 version started with process ID 13676.\n",
      "PyAEDT INFO: Python version 3.11.11 | packaged by Anaconda, Inc. | (main, Dec 11 2024, 16:34:19) [MSC v.1929 64 bit (AMD64)].\n",
      "PyAEDT INFO: PyAEDT version 0.15.0.\n",
      "PyAEDT INFO: Returning found Desktop session with PID 13676!\n",
      "PyAEDT INFO: No project is defined. Project Project_EVF exists and has been read.\n",
      "PyAEDT INFO: Added design 'SST_MFT' of type Maxwell 3D.\n",
      "PyAEDT INFO: Aedt Objects correctly read\n",
      "input_parameter : {'N1': 6, 'N2': 6, 'N1_layer': 1, 'N2_layer': 1, 'frequency': 39, 'per': 7848, 'w1': 217.1, 'l1_top': 42.296, 'l1_top_ratio': 0.68, 'l1_side_ratio': 0.82, 'l1_center': 124.4, 'l1_side': 51.004, 'l2': 141.819809, 'l2_gap': 46.5, 'h1': 160.9, 'h1_gap': 8.31853, 'h2_gap': 6.444045, 'N1_height_ratio': 0.53, 'N1_fill_factor': 0.72, 'N1_coil_diameter': 8.771349, 'N1_coil_zgap': 3.979593, 'N2_height_ratio': 0.91, 'N2_fill_factor': 0.76, 'N2_coil_diameter': 7.94846, 'N2_coil_zgap': 2.92838, 'N1_space_w': 48.5, 'N1_space_l': 46.6, 'N2_space_w': 4.0, 'N2_space_l': 3.1, 'N1_layer_gap': 6.7, 'N2_layer_gap': 7.8, 'N1_offset_ratio': 0.78, 'N2_offset_ratio': -0.22, 'N1_offset': 29.49297, 'N2_offset': -0.796455, 'cold_plate_x': 0.0, 'cold_plate_y': 0.0, 'cold_plate_z1': 15.9, 'cold_plate_z2': 0.27, 'mold_thick': 28.9, 'thermal_conductivity': 1.15, 'winding_thermal_ratio': 0.83, 'wind_speed': 18.3}\n",
      "input_parameter : 6.0,6.0,1.0,1.0,39.0,7848.0,217.1,42.296,0.68,0.82,124.4,51.004,141.819809,46.5,160.9,8.31853,6.444045,0.53,0.72,8.771349,3.979593,0.91,0.76,7.94846,2.92838,48.5,46.6,4.0,3.1,6.7,7.8,0.78,-0.22,29.49297,-0.796455,0.0,0.0,15.9,0.27,28.9,1.15,0.83,18.3\n",
      "Ansys 디자인 변수가 설정되었습니다.\n",
      "PyAEDT INFO: Materials class has been initialized! Elapsed time: 0m 0sec\n",
      "PyAEDT INFO: Modeler class has been initialized! Elapsed time: 0m 0sec\n",
      "PyAEDT INFO: Parsing design objects. This operation can take time\n",
      "PyAEDT INFO: Refreshing bodies from Object Info\n",
      "PyAEDT INFO: Bodies Info Refreshed Elapsed time: 0m 0sec\n",
      "PyAEDT INFO: 3D Modeler objects parsed. Elapsed time: 0m 0sec\n",
      "Core created successfully.\n",
      "Winding 'winding1' created successfully.\n",
      "Winding 'winding2' created successfully.\n",
      "Winding 'winding3' created successfully.\n",
      "PyAEDT INFO: Parsing design objects. This operation can take time\n",
      "PyAEDT INFO: Refreshing bodies from Object Info\n",
      "PyAEDT INFO: Bodies Info Refreshed Elapsed time: 0m 0sec\n",
      "PyAEDT INFO: 3D Modeler objects parsed. Elapsed time: 0m 0sec\n",
      "Top cold plate created successfully.\n",
      "PyAEDT INFO: Parsing design objects. This operation can take time\n",
      "PyAEDT INFO: Refreshing bodies from Object Info\n",
      "PyAEDT INFO: Bodies Info Refreshed Elapsed time: 0m 0sec\n",
      "PyAEDT INFO: 3D Modeler objects parsed. Elapsed time: 0m 0sec\n",
      "Bottom cold plate created successfully.\n",
      "PyAEDT INFO: Boundary Radiation Radiation has been created.\n",
      "Air region and radiation boundary created successfully.\n",
      "PyAEDT INFO: Mesh class has been initialized! Elapsed time: 0m 0sec\n",
      "PyAEDT INFO: Mesh class has been initialized! Elapsed time: 0m 0sec\n",
      "Mesh operations assigned successfully.\n",
      "PyAEDT INFO: Boundary CoilTerminal Tx_in has been created.\n",
      "PyAEDT INFO: Boundary CoilTerminal Tx_out has been created.\n",
      "PyAEDT INFO: Boundary CoilTerminal Rx1_in has been created.\n",
      "PyAEDT INFO: Boundary CoilTerminal Rx1_out has been created.\n",
      "PyAEDT INFO: Boundary CoilTerminal Rx2_in has been created.\n",
      "PyAEDT INFO: Boundary CoilTerminal Rx2_out has been created.\n",
      "PyAEDT INFO: Boundary Winding Tx_Winding has been created.\n",
      "PyAEDT INFO: Boundary Winding Rx1_Winding has been created.\n",
      "PyAEDT INFO: Boundary Winding Rx2_Winding has been created.\n",
      "PyAEDT INFO: Infinite is the only return path option in EddyCurrent.\n",
      "PyAEDT INFO: Boundary Matrix Matrix has been created.\n",
      "Excitations assigned successfully.\n",
      "Maxwell analysis started...\n",
      "PyAEDT INFO: Key Desktop/ActiveDSOConfigurations/Maxwell 3D correctly changed.\n",
      "PyAEDT INFO: Solving all design setups.\n",
      "PyAEDT INFO: Key Desktop/ActiveDSOConfigurations/Maxwell 3D correctly changed.\n",
      "PyAEDT INFO: Design setup None solved correctly in 0.0h 2.0m 37.0s\n",
      "Maxwell analysis finished. Duration: 157.03 seconds.\n",
      "PyAEDT INFO: Parsing y:/git/insulation_amp/pyaedt_library/example/MFT_TAB/simulation/simulation10/simulation10.aedt.\n",
      "PyAEDT INFO: File y:/git/insulation_amp/pyaedt_library/example/MFT_TAB/simulation/simulation10/simulation10.aedt correctly loaded. Elapsed time: 0m 0sec\n",
      "PyAEDT INFO: aedt file load time 0.45892953872680664\n",
      "PyAEDT INFO: PostProcessor class has been initialized! Elapsed time: 0m 0sec\n",
      "PyAEDT INFO: Post class has been initialized! Elapsed time: 0m 0sec\n",
      "PyAEDT INFO: Export Convergence to  y:\\git\\insulation_amp\\pyaedt_library\\example\\MFT_TAB\\simulation\\simulation10\\simulation10.pyaedt\\SST_MFT\\Convergence_M7GB1D.prop\n",
      "PyAEDT INFO: Active Design set to SST_MFT1\n",
      "PyAEDT INFO: Active Design set to SST_MFT1\n",
      "PyAEDT INFO: Python version 3.11.11 | packaged by Anaconda, Inc. | (main, Dec 11 2024, 16:34:19) [MSC v.1929 64 bit (AMD64)].\n",
      "PyAEDT INFO: PyAEDT version 0.15.0.\n",
      "PyAEDT INFO: Returning found Desktop session with PID 13676!\n",
      "PyAEDT INFO: No project is defined. Project simulation10 exists and has been read.\n",
      "PyAEDT INFO: Active Design set to SST_MFT1\n",
      "PyAEDT INFO: Aedt Objects correctly read\n",
      "PyAEDT INFO: Modeler class has been initialized! Elapsed time: 0m 0sec\n",
      "PyAEDT WARNING: Key Current not found. Trying to applying new key \n",
      "PyAEDT WARNING: Key Current not found. Trying to applying new key \n",
      "PyAEDT WARNING: Key Current not found. Trying to applying new key \n",
      "Maxwell analysis started...\n",
      "PyAEDT INFO: Key Desktop/ActiveDSOConfigurations/Maxwell 3D correctly changed.\n",
      "PyAEDT INFO: Solving all design setups.\n",
      "PyAEDT INFO: Key Desktop/ActiveDSOConfigurations/Maxwell 3D correctly changed.\n",
      "PyAEDT INFO: Design setup None solved correctly in 0.0h 0.0m 45.0s\n",
      "Maxwell analysis finished. Duration: 45.20 seconds.\n",
      "PyAEDT INFO: Export Convergence to  y:\\git\\insulation_amp\\pyaedt_library\\example\\MFT_TAB\\simulation\\simulation10\\simulation10.pyaedt\\SST_MFT1\\Convergence_IMOJVR.prop\n",
      "PyAEDT INFO: Active Design set to IcepakDesign1\n",
      "PyAEDT INFO: Active Design set to IcepakDesign1\n",
      "PyAEDT INFO: Python version 3.11.11 | packaged by Anaconda, Inc. | (main, Dec 11 2024, 16:34:19) [MSC v.1929 64 bit (AMD64)].\n",
      "PyAEDT INFO: PyAEDT version 0.15.0.\n",
      "PyAEDT INFO: Returning found Desktop session with PID 13676!\n",
      "PyAEDT INFO: No project is defined. Project simulation10 exists and has been read.\n",
      "PyAEDT INFO: Active Design set to IcepakDesign1\n",
      "PyAEDT INFO: Aedt Objects correctly read\n",
      "PyAEDT INFO: Modeler class has been initialized! Elapsed time: 0m 0sec\n",
      "PyAEDT INFO: Materials class has been initialized! Elapsed time: 0m 0sec\n",
      "PyAEDT INFO: Parsing y:/git/insulation_amp/pyaedt_library/example/MFT_TAB/simulation/simulation10/simulation10.aedt.\n",
      "PyAEDT INFO: File y:/git/insulation_amp/pyaedt_library/example/MFT_TAB/simulation/simulation10/simulation10.aedt correctly loaded. Elapsed time: 0m 1sec\n",
      "PyAEDT INFO: aedt file load time 0.7824583053588867\n",
      "PyAEDT INFO: Boundary SourceIcepak cold_plate has been created.\n",
      "Icepak analysis started...\n",
      "PyAEDT INFO: Key Desktop/ActiveDSOConfigurations/Icepak correctly changed.\n",
      "PyAEDT INFO: Solving all design setups.\n",
      "PyAEDT INFO: Key Desktop/ActiveDSOConfigurations/Icepak correctly changed.\n",
      "PyAEDT INFO: Design setup None solved correctly in 0.0h 2.0m 0.0s\n",
      "Icepak analysis finished. Duration: 120.34 seconds.\n",
      "PyAEDT INFO: PostProcessor class has been initialized! Elapsed time: 0m 0sec\n",
      "PyAEDT INFO: Post class has been initialized! Elapsed time: 0m 0sec\n",
      "Results saved to simulation_results.csv\n"
     ]
    }
   ],
   "source": [
    "import sys\n",
    "import os\n",
    "import platform\n",
    "import shutil\n",
    "\n",
    "os_name = platform.system()\n",
    "if os_name == \"Windows\":\n",
    "    sys.path.insert(0, r\"Y:/git/insulation_amp/pyaedt_library/src/\") \n",
    "else :\n",
    "    sys.path.insert(0, r\"/gpfs/home1/r1jae262/jupyter/git/pyaedt_library/src/\")\n",
    "\n",
    "import pyaedt_module\n",
    "from pyaedt_module.core import pyDesktop\n",
    "\n",
    "import time\n",
    "from datetime import datetime\n",
    "\n",
    "import math\n",
    "import copy\n",
    "\n",
    "import pandas as pd\n",
    "\n",
    "import csv\n",
    "from filelock import FileLock\n",
    "import traceback\n",
    "import logging\n",
    "\n",
    "from module.input_parameter import create_input_parameter, create_input_parameter_for_test, calculate_coil_parameter, calculate_coil_offset, set_design_variables\n",
    "from module.modeling import (\n",
    "    create_core_model, create_all_windings, create_cold_plate, create_air,\n",
    "    assign_meshing, assign_excitations, create_face, create_mold\n",
    ")\n",
    "from module.report import (\n",
    "    get_input_parameter, get_maxwell_magnetic_parameter,\n",
    "    get_maxwell_calculator_parameter, get_convergence_report, get_icepak_calculator_parameter\n",
    ")\n",
    "\n",
    "\n",
    "def save_error_log(project_name, error_info):\n",
    "    error_folder = \"error\"\n",
    "    os.makedirs(error_folder, exist_ok=True)\n",
    "    error_file = os.path.join(error_folder, f\"{project_name}_error.txt\")\n",
    "    with open(error_file, \"w\", encoding=\"utf-8\") as f:\n",
    "        f.write(error_info)\n",
    "\n",
    "\n",
    "class Simulation() :\n",
    "\n",
    "    def __init__(self) :\n",
    "\n",
    "        self.NUM_CORE = 4\n",
    "        self.NUM_TASK = 1\n",
    "\n",
    "        file_path = \"simulation_num.txt\"\n",
    "\n",
    "        # 파일이 존재하지 않으면 생성\n",
    "        if not os.path.exists(file_path):\n",
    "            with open(file_path, \"w\", encoding=\"utf-8\") as file:\n",
    "                file.write(\"1\")\n",
    "\n",
    "        # 읽기/쓰기 모드로 파일 열기\n",
    "        with open(file_path, \"r+\", encoding=\"utf-8\") as file:\n",
    "\n",
    "            # 파일에서 값 읽기\n",
    "            content = int(file.read().strip())\n",
    "            self.num = content\n",
    "            self.PROJECT_NAME = f\"simulation{content}\"\n",
    "            content += 1\n",
    "\n",
    "            # 파일 포인터를 처음으로 되돌리고, 파일 내용 초기화 후 새 값 쓰기\n",
    "            file.seek(0)\n",
    "            file.truncate()\n",
    "            file.write(str(content))\n",
    "\n",
    "            # 파일은 with 블록 종료 시 자동으로 닫히며, 잠금도 해제됨\n",
    "\n",
    "        print(f\"==========simulation{content}==========\")\n",
    "\n",
    "        os_name = platform.system()\n",
    "        if os_name == \"Windows\":\n",
    "            GUI = False\n",
    "        else :\n",
    "            GUI = True\n",
    "\n",
    "        self.desktop = pyDesktop(version=None, non_graphical=GUI)\n",
    "\n",
    "\n",
    "    def create_design(self, name) :\n",
    "        self.project = self.desktop.create_project()\n",
    "        self.maxwell_design = self.project.create_design(name=name, solver=\"Maxwell3d\", solution=None)\n",
    "        return self.maxwell_design\n",
    "\n",
    "    \n",
    "    def create_input_parameter(self, param_list=None) :\n",
    "        if self.test == True :\n",
    "            input_parameter = create_input_parameter_for_test(self.maxwell_design, param_list)\n",
    "        else :\n",
    "            input_parameter = create_input_parameter(self.maxwell_design, param_list)\n",
    "        print(f\"input_parameter : {input_parameter}\")\n",
    "        print(\"input_parameter :\", \",\".join(str(float(v)) for v in input_parameter.values()))\n",
    "        return input_parameter\n",
    "\n",
    "\n",
    "    def set_variable(self, input_parameter) :\n",
    "        # 1. Simulation 클래스 인스턴스에 속성으로 값을 설정합니다 (예: self.N1 = 10).\n",
    "        for key, value in input_parameter.items():\n",
    "            setattr(self.maxwell_design, key, value)\n",
    "        \n",
    "        self.input_df = pd.DataFrame([input_parameter])\n",
    "        \n",
    "        # 2. input_parameter.py의 함수를 호출하여 Ansys 디자인에 변수를 설정합니다.\n",
    "        set_design_variables(self.maxwell_design, input_parameter)\n",
    "\n",
    "    def set_maxwell_analysis(self) :\n",
    "        self.maxwell_design.setup = self.maxwell_design.create_setup(name = \"Setup1\")\n",
    "        self.maxwell_design.setup.properties[\"Max. Number of Passes\"] = 3 # 10\n",
    "        self.maxwell_design.setup.properties[\"Min. Number of Passes\"] = 1\n",
    "        self.maxwell_design.setup.properties[\"Percent Error\"] = 2.5 # 2.5\n",
    "        self.maxwell_design.setup.properties[\"Frequency Setup\"] = f\"{self.maxwell_design.frequency}kHz\"\n",
    "\n",
    "    def create_core(self):\n",
    "        # self.maxwell_design.set_power_ferrite(cm=0.2435*1e-3, x=2.2, y=2.299)\n",
    "        self.maxwell_design.set_power_ferrite(cm=2.315, x=1.4472, y=2.4769)\n",
    "        self.maxwell_design.core = create_core_model(self.maxwell_design)\n",
    "\n",
    "\n",
    "    def create_face(self, design_obj):\n",
    "        create_face(design_obj)\n",
    "\n",
    "\n",
    "    def create_windings(self):\n",
    "        \"\"\"Creates both primary and secondary windings.\"\"\"\n",
    "        self.maxwell_design.winding1, self.maxwell_design.winding2, self.maxwell_design.winding3 = create_all_windings(self.maxwell_design)\n",
    "\n",
    "\n",
    "    def create_mold(self):\n",
    "        self.maxwell_design.mold = create_mold(self.maxwell_design)\n",
    "        self.maxwell_design.modeler.subtract(\n",
    "\t\t\t\t\t\tblank_list = [self.maxwell_design.mold],\n",
    "\t\t\t\t\t\ttool_list = [self.maxwell_design.core, self.maxwell_design.winding1, self.maxwell_design.winding2, self.maxwell_design.winding3],\n",
    "\t\t\t\t\t\tkeep_originals = True\n",
    "\t\t\t\t\t)\n",
    "\n",
    "    def create_cold_plate(self):\n",
    "        \"\"\"Creates the cold plates.\"\"\"\n",
    "        self.maxwell_design.cold_plate_top, self.maxwell_design.cold_plate_bottom = create_cold_plate(self.maxwell_design)\n",
    "\n",
    "    def create_air(self):\n",
    "        \"\"\"Creates the air region.\"\"\"\n",
    "        self.maxwell_design.air_region = create_air(self.maxwell_design)\n",
    "\n",
    "    def assign_meshing(self):\n",
    "        \"\"\"Assigns mesh operations.\"\"\"\n",
    "        self.maxwell_design.length_mesh, self.maxwell_design.skin_depth_mesh = assign_meshing(self.maxwell_design)\n",
    "\n",
    "    def assign_excitations(self):\n",
    "        \"\"\"Identifies terminals and assigns all excitations.\"\"\"\n",
    "        self.maxwell_design.Tx_winding, self.maxwell_design.Rx_winding1, self.maxwell_design.Rx_winding2 = assign_excitations(self.maxwell_design, self.maxwell_design.winding1, self.maxwell_design.winding2, self.maxwell_design.winding3)\n",
    "\n",
    "    def analyze_maxwell(self, design):\n",
    "        current_dir = os.getcwd()\n",
    "        folder_path = os.path.join(current_dir, \"simulation\", f\"{self.PROJECT_NAME}\")\n",
    "        os.makedirs(folder_path, exist_ok=True)  # 폴더가 없으면 생성\n",
    "        file_path = os.path.join(folder_path, f\"{self.PROJECT_NAME}.aedt\")\n",
    "        self.project.save_project(path=file_path)\n",
    "        \n",
    "        start_time = time.time()\n",
    "        print(f\"Maxwell analysis started...\")\n",
    "        design.analyze()\n",
    "        end_time = time.time()\n",
    "        print(f\"Maxwell analysis finished. Duration: {end_time - start_time:.2f} seconds.\")\n",
    "\n",
    "    def get_simulation_results(self, design=None,input=True, step=1):\n",
    "        current_dir = os.getcwd()\n",
    "        folder_path = os.path.join(current_dir, \"simulation\", f\"{self.PROJECT_NAME}\")\n",
    "        if input:\n",
    "            input_df = get_input_parameter(self.maxwell_design)\n",
    "            result_df = pd.concat([input_df], axis=1)\n",
    "        else:\n",
    "            result_df = self.results_df # Use existing df for second run\n",
    "\n",
    "        \n",
    "        if step == 1:\n",
    "            design.magnetic_report, magnetic_df = get_maxwell_magnetic_parameter(design, dir=folder_path, mod=\"write\", import_report=None, report_name=\"magnetic_report\", file_name=\"magnetic_report1\")\n",
    "            design.calculator_report, calculator_df = get_maxwell_calculator_parameter(design, dir=folder_path, mod=\"write\", import_report=None, report_name=\"calculator_report\", file_name=\"calculator_report1\")\n",
    "        else:\n",
    "            design.magnetic_report, magnetic_df = get_maxwell_magnetic_parameter(design, dir=folder_path, mod=\"read\", import_report=self.maxwell_design.magnetic_report, report_name=\"magnetic_report\", file_name=\"magnetic_report2\")\n",
    "            design.calculator_report, calculator_df = get_maxwell_calculator_parameter(design, dir=folder_path, mod=\"read\", import_report=self.maxwell_design.calculator_report, report_name=\"calculator_report\", file_name=\"calculator_report2\")\n",
    "        analysis_df = get_convergence_report(design)\n",
    "\n",
    "        results_df = pd.concat([result_df, magnetic_df, calculator_df, analysis_df], axis=1)\n",
    "        self.results_df = results_df\n",
    "\n",
    "        return results_df\n",
    "\n",
    "    def save_results_to_csv(self, results_df, filename=\"simulation_results.csv\"):\n",
    "        \"\"\"Saves the DataFrame to a CSV file in a process-safe way.\"\"\"\n",
    "        lock_path = filename + \".lock\"\n",
    "        with FileLock(lock_path):\n",
    "            file_exists = os.path.isfile(filename)\n",
    "            results_df.to_csv(filename, mode='a', header=not file_exists, index=False)\n",
    "        print(f\"Results saved to {filename}\")\n",
    "\n",
    "\n",
    "    def second_simulation(self):\n",
    "\n",
    "        time.sleep(5)\n",
    "\n",
    "        oProject = self.desktop.odesktop.SetActiveProject(self.project.name)\n",
    "        oProject.CopyDesign(self.maxwell_design.name)\n",
    "        oProject.Paste()\n",
    "\n",
    "        self.maxwell_design2 = self.maxwell_design.get_active_design()\n",
    "\n",
    "        oProject = self.desktop.odesktop.SetActiveProject(self.project.name)\n",
    "        oDesign = oProject.SetActiveDesign(self.maxwell_design2.design_name)\n",
    "\n",
    "        # Map cold plate objects from Maxwell to Maxwell2\n",
    "        self.maxwell_design2.cold_plate_top = self.maxwell_design2.model3d.find_object(self.maxwell_design.cold_plate_top)\n",
    "        self.maxwell_design2.cold_plate_bottom = self.maxwell_design2.model3d.find_object(self.maxwell_design.cold_plate_bottom)\n",
    "        self.maxwell_design2.winding1 = self.maxwell_design2.model3d.find_object(self.maxwell_design.winding1)\n",
    "        self.maxwell_design2.winding2 = self.maxwell_design2.model3d.find_object(self.maxwell_design.winding2)\n",
    "        self.maxwell_design2.winding3 = self.maxwell_design2.model3d.find_object(self.maxwell_design.winding3)\n",
    "        self.maxwell_design2.core = self.maxwell_design2.model3d.find_object(self.maxwell_design.core)  \n",
    "        self.maxwell_design2.leg_left = self.maxwell_design2.model3d.find_object(self.maxwell_design.leg_left)\n",
    "        self.maxwell_design2.leg_right = self.maxwell_design2.model3d.find_object(self.maxwell_design.leg_right)\n",
    "        self.maxwell_design2.leg_center = self.maxwell_design2.model3d.find_object(self.maxwell_design.leg_center)\n",
    "        self.maxwell_design2.leg_top_left = self.maxwell_design2.model3d.find_object(self.maxwell_design.leg_top_left)\n",
    "        self.maxwell_design2.leg_top_right = self.maxwell_design2.model3d.find_object(self.maxwell_design.leg_top_right)\n",
    "        self.maxwell_design2.leg_bottom_left = self.maxwell_design2.model3d.find_object(self.maxwell_design.leg_bottom_left)\n",
    "        self.maxwell_design2.leg_bottom_right = self.maxwell_design2.model3d.find_object(self.maxwell_design.leg_bottom_right)\n",
    "\n",
    "        self.maxwell_design2.delete_mesh(self.maxwell_design.skin_depth_mesh)\n",
    "        \n",
    "        V = 750\n",
    "        Im = V/2/3.141592/self.maxwell_design.frequency/1e3/(float(self.results_df[\"Lmt1\"])*1e-6)\n",
    "\n",
    "        # re excitation\n",
    "        excitation_list=[self.maxwell_design.Tx_winding.name, self.maxwell_design.Rx_winding1.name, self.maxwell_design.Rx_winding2.name]\n",
    "        [self.maxwell_design2.Tx_winding, self.maxwell_design2.Rx_winding1, self.maxwell_design2.Rx_winding2] = self.maxwell_design2.get_excitation(excitation_name=excitation_list)\n",
    "\n",
    "        self.maxwell_design2.Tx_winding[\"Current\"] = f'{Im} * sqrt(2)A'\n",
    "        self.maxwell_design2.Rx_winding1[\"Current\"] = '0 * sqrt(2)A'\n",
    "        self.maxwell_design2.Rx_winding2[\"Current\"] = '0 * sqrt(2)A'\n",
    "\n",
    "        self.maxwell_design2.setup = self.maxwell_design2.get_setup(name=\"Setup1\")\n",
    "        self.maxwell_design2.setup.properties[\"Max. Number of Passes\"] = 5 # 10\n",
    "        self.maxwell_design2.setup.properties[\"Percent Error\"] = 3 # 2.5\n",
    "\n",
    "\n",
    "        self.analyze_maxwell(self.maxwell_design2)\n",
    "        self.get_simulation_results(design=self.maxwell_design2, input=False, step=2)\n",
    "\n",
    "    def create_icepak(self):\n",
    "\n",
    "        oProject = self.desktop.odesktop.SetActiveProject(self.project.name)\n",
    "        oDesign = oProject.SetActiveDesign(self.maxwell_design.design_name)\n",
    "        oDesign.CreateEMLossTarget(\"Icepak\", \"Setup1 : LastAdaptive\", \n",
    "            [\n",
    "                \"NAME:DesignSetup\",\n",
    "                \"Sim Type:=\"\t\t, \"Forced\"\n",
    "            ])\n",
    "        self.icepak_design = self.maxwell_design.get_active_design()\n",
    "\n",
    "        return self.icepak_design\n",
    "\n",
    "    def setup_icepak_analysis(self):\n",
    "        \"\"\"Sets up the Icepak analysis, including loss mapping and boundary conditions.\"\"\"\n",
    "\n",
    "        self.icepak_design.set_ambient_temp(temp=30)\n",
    "\n",
    "        # Recreate non-model sheet objects in Icepak for result evaluation\n",
    "        create_face(self.icepak_design)\n",
    "\n",
    "\n",
    "        # Delete default EM loss boundary that is automatically created        oProject = self.desktop.odesktop.SetActiveProject(self.project.name)\n",
    "        oDesign = self.icepak_design.odesign\n",
    "        oModule = oDesign.GetModule(\"BoundarySetup\")\n",
    "        oModule.DeleteBoundaries([\"EMLoss1\"])\n",
    "\n",
    "        # Assign EM Loss from Maxwell analysis to Icepak thermal simulation\n",
    "        self.icepak_design.assign_EM_loss(name=\"Coreloss\", objects=[self.maxwell_design.core], design=self.maxwell_design2, frequency=self.maxwell_design.frequency*1e+3, loss_mul=1)\n",
    "        self.icepak_design.assign_EM_loss(name=\"Windingloss\", objects=[self.maxwell_design.winding1, self.maxwell_design.winding2, self.maxwell_design.winding3], \n",
    "                                          design=self.maxwell_design, frequency=self.maxwell_design.frequency*1e+3, loss_mul=self.maxwell_design.winding_thermal_ratio)\n",
    "        # self.icepak_design.assign_EM_loss(name=\"Windingloss\", objects=[self.maxwell_design.winding1, self.maxwell_design.winding2], design=self.maxwell_design, frequency=self.freq, loss_mul=1)\n",
    "\n",
    "        # boundary setup\n",
    "        self.icepak_design.boundaries[1].properties[\"X Velocity\"] = f\"{self.maxwell_design.wind_speed}m_per_sec\"\n",
    "\n",
    "        # Configure Icepak analysis setup\n",
    "        self.icepak_design.icepak_cetup = self.icepak_design.get_setup(name=\"Setup1\")\n",
    "        self.icepak_design.icepak_cetup.props[\"Flow Regime\"] = \"Turbulent\"\n",
    "        self.icepak_design.icepak_cetup.props[\"Include Gravity\"] = True\n",
    "        self.icepak_design.icepak_cetup.props[\"Solution Initialization - Z Velocity\"] = \"0.1m_per_sec\"\n",
    "\n",
    "        # Map cold plate objects from Maxwell to Icepak\n",
    "        self.icepak_design.cold_plate_top = self.icepak_design.model3d.find_object(self.maxwell_design.cold_plate_top)\n",
    "        self.icepak_design.cold_plate_bottom = self.icepak_design.model3d.find_object(self.maxwell_design.cold_plate_bottom)\n",
    "        self.icepak_design.winding1 = self.icepak_design.model3d.find_object(self.maxwell_design.winding1)\n",
    "        self.icepak_design.winding2 = self.icepak_design.model3d.find_object(self.maxwell_design.winding2)\n",
    "        self.icepak_design.winding3 = self.icepak_design.model3d.find_object(self.maxwell_design.winding3)\n",
    "        self.icepak_design.core = self.icepak_design.model3d.find_object(self.maxwell_design.core)  \n",
    "        self.icepak_design.leg_left = self.icepak_design.model3d.find_object(self.maxwell_design.leg_left)\n",
    "        self.icepak_design.leg_right = self.icepak_design.model3d.find_object(self.maxwell_design.leg_right)\n",
    "        self.icepak_design.leg_center = self.icepak_design.model3d.find_object(self.maxwell_design.leg_center)\n",
    "        self.icepak_design.leg_top_left = self.icepak_design.model3d.find_object(self.maxwell_design.leg_top_left)\n",
    "        self.icepak_design.leg_top_right = self.icepak_design.model3d.find_object(self.maxwell_design.leg_top_right)\n",
    "        self.icepak_design.leg_bottom_left = self.icepak_design.model3d.find_object(self.maxwell_design.leg_bottom_left)\n",
    "        self.icepak_design.leg_bottom_right = self.icepak_design.model3d.find_object(self.maxwell_design.leg_bottom_right)\n",
    "\n",
    "        \n",
    "\n",
    "        # Assign fixed temperature boundary condition to the cold plates\n",
    "        self.icepak_design.assign_icepak_source(\n",
    "            assignment=[self.icepak_design.cold_plate_top, self.icepak_design.cold_plate_bottom], \n",
    "            thermal_condition=\"Fixed Temperature\", \n",
    "            assignment_value=\"AmbientTemp\", \n",
    "            boundary_name=\"cold_plate\"\n",
    "        )\n",
    "\n",
    "    def analyze_icepak(self):\n",
    "        \"\"\"Runs the Icepak analysis.\"\"\"\n",
    "        start_time = time.time()\n",
    "        print(f\"Icepak analysis started...\")\n",
    "        self.icepak_design.analyze()\n",
    "        end_time = time.time()\n",
    "        print(f\"Icepak analysis finished. Duration: {end_time - start_time:.2f} seconds.\")\n",
    "\n",
    "    def get_icepak_results(self):\n",
    "        \"\"\"Retrieves and processes results from the Icepak simulation.\"\"\"\n",
    "        \n",
    "\n",
    "        # Define the temperature parameters to be extracted\n",
    "        current_dir = os.getcwd()\n",
    "        folder_path = os.path.join(current_dir, \"simulation\", f\"{self.PROJECT_NAME}\")\n",
    "        \n",
    "        # Get results using the calculator\n",
    "        self.icepak_design.calculator_report, icepak_results_df = get_icepak_calculator_parameter(\n",
    "            self.icepak_design, dir=folder_path, mod=\"write\", report_name=\"thermal_report\", file_name=\"thermal_report1\"\n",
    "        )\n",
    "        \n",
    "        # Concatenate Icepak results with the main results DataFrame\n",
    "        self.results_df = pd.concat([self.results_df, icepak_results_df], axis=1)\n",
    "\n",
    "\n",
    "    def close_project(self):\n",
    "        self.maxwell_design.cleanup_solution()\n",
    "        self.icepak_design.cleanup_solution()\n",
    "\n",
    "        self.maxwell_design.close_project()\n",
    "\n",
    "        self.desktop.release_desktop(close_projects=True, close_on_exit=True)\n",
    "\n",
    "    def delete_project_folder(self):\n",
    "        time.sleep(10)\n",
    "        try:\n",
    "            project_folder = os.path.join(os.getcwd(), \"simulation\", self.PROJECT_NAME)\n",
    "            if os.path.isdir(project_folder):\n",
    "                shutil.rmtree(project_folder)\n",
    "                print(f\"Successfully deleted project folder: {project_folder}\")\n",
    "        except Exception as e:\n",
    "            print(f\"Error deleting project folder {project_folder}: {e}\", file=sys.stderr)\n",
    "\n",
    "\n",
    "\n",
    "test = True\n",
    "simulation_runner = Simulation()\n",
    "\n",
    "if test == True :\n",
    "    simulation_runner.test = True\n",
    "else :\n",
    "    simulation_runner.test = False\n",
    "\n",
    "# 2. create_design 메서드를 호출하여 프로젝트와 디자인을 초기화합니다.\n",
    "simulation_runner.create_design(\"SST_MFT\")\n",
    "\n",
    "# 3. 이제 입력 매개변수를 생성할 수 있습니다.\n",
    "input_parameters = simulation_runner.create_input_parameter()\n",
    "\n",
    "# 4. 생성된 파라미터를 Simulation 객체와 Ansys 디자인에 설정합니다.\n",
    "simulation_runner.set_variable(input_parameters)\n",
    "\n",
    "# 5. 해석 설정 및 실행\n",
    "simulation_runner.set_maxwell_analysis()\n",
    "\n",
    "# 6. 모델을 생성합니다.\n",
    "simulation_runner.create_core()\n",
    "\n",
    "simulation_runner.create_face(simulation_runner.maxwell_design)\n",
    "simulation_runner.create_windings()\n",
    "simulation_runner.create_mold()\n",
    "simulation_runner.create_cold_plate()\n",
    "simulation_runner.create_air()\n",
    "\n",
    "# 7. 메쉬 및 경계조건 설정\n",
    "simulation_runner.assign_meshing()\n",
    "simulation_runner.assign_excitations()\n",
    "\n",
    "# 8. 해석 설정 및 실행\n",
    "simulation_runner.analyze_maxwell(simulation_runner.maxwell_design)\n",
    "\n",
    "# 9. 결과 리포팅\n",
    "simulation_runner.get_simulation_results(design=simulation_runner.maxwell_design, input=True)\n",
    "\n",
    "# 10. 두 번째 해석 실행\n",
    "simulation_runner.second_simulation()\n",
    "\n",
    "# 11. Icepak 디자인 생성\n",
    "simulation_runner.create_icepak()       \n",
    "\n",
    "# 12. Icepak 해석 설정\n",
    "simulation_runner.setup_icepak_analysis()\n",
    "\n",
    "# 13. Icepak 해석 실행\n",
    "simulation_runner.analyze_icepak()\n",
    "\n",
    "# 14. Icepak 결과 리포팅\n",
    "simulation_runner.get_icepak_results()\n",
    "\n",
    "# 15. 결과 저장\n",
    "simulation_runner.save_results_to_csv(simulation_runner.results_df)\n",
    "\n"
   ]
  },
  {
   "cell_type": "code",
   "execution_count": 5,
   "metadata": {},
   "outputs": [
    {
     "name": "stdout",
     "output_type": "stream",
     "text": [
      "사용 가능한 GRPC 포트: 50000\n"
     ]
    }
   ],
   "source": [
    "def get_free_ports(num_ports):\n",
    "    \"\"\"\n",
    "    사용 가능한 GRPC 포트를 찾아서 반환합니다.\n",
    "    \n",
    "    Args:\n",
    "        num_ports (int): 필요한 포트 개수\n",
    "        \n",
    "    Returns:\n",
    "        list: 사용 가능한 포트 번호 리스트\n",
    "    \"\"\"\n",
    "    import socket\n",
    "    \n",
    "    def is_port_available(port):\n",
    "        sock = socket.socket(socket.AF_INET, socket.SOCK_STREAM)\n",
    "        try:\n",
    "            sock.bind(('localhost', port))\n",
    "            sock.close()\n",
    "            return True\n",
    "        except:\n",
    "            return False\n",
    "            \n",
    "    available_ports = []\n",
    "    port = 50000  # GRPC 기본 포트 범위 시작\n",
    "    \n",
    "    while len(available_ports) < num_ports:\n",
    "        if is_port_available(port):\n",
    "            available_ports.append(port)\n",
    "        port += 1\n",
    "        if port > 60000:  # 최대 포트 번호 제한\n",
    "            break\n",
    "            \n",
    "    return available_ports\n",
    "\n",
    "# 사용 예시: 6개의 사용 가능한 포트 찾기\n",
    "free_ports = get_free_ports(6)\n",
    "print(f\"사용 가능한 GRPC 포트: {free_ports[0]}\")\n"
   ]
  },
  {
   "cell_type": "code",
   "execution_count": 1,
   "metadata": {},
   "outputs": [
    {
     "name": "stdout",
     "output_type": "stream",
     "text": [
      "FutureWarning: Module 'pyaedt' has become an alias to the new package structure. Please update you imports to use the new architecture based on 'ansys.aedt.core'. In addition, some files have been renamed to follow the PEP 8 naming convention. The old structure and file names will be deprecated in future versions, see https://aedt.docs.pyansys.com/version/stable/release_1_0.html\n"
     ]
    }
   ],
   "source": [
    "import sys\n",
    "import os\n",
    "import platform\n",
    "import shutil\n",
    "\n",
    "os_name = platform.system()\n",
    "if os_name == \"Windows\":\n",
    "    sys.path.insert(0, r\"Y:/git/insulation_amp/pyaedt_library/src/\") \n",
    "else :\n",
    "    sys.path.insert(0, r\"/gpfs/home1/r1jae262/jupyter/git/pyaedt_library/src/\")\n",
    "\n",
    "import pyaedt_module\n",
    "from pyaedt_module.core import pyDesktop\n",
    "\n",
    "import time\n",
    "from datetime import datetime\n",
    "\n",
    "import math\n",
    "import copy\n",
    "\n",
    "import pandas as pd\n",
    "\n",
    "import csv\n",
    "from filelock import FileLock\n",
    "import traceback\n",
    "import logging\n",
    "\n",
    "from module.input_parameter import create_input_parameter, calculate_coil_parameter, calculate_coil_offset, set_design_variables\n",
    "from module.modeling import (\n",
    "    create_core_model, create_all_windings, create_cold_plate, create_air,\n",
    "    assign_meshing, assign_excitations, create_face, create_mold\n",
    ")\n",
    "from module.report import (\n",
    "    get_input_parameter, get_maxwell_magnetic_parameter,\n",
    "    get_maxwell_calculator_parameter, get_convergence_report, get_icepak_calculator_parameter\n",
    ")\n",
    "\n",
    "\n",
    "def save_error_log(project_name, error_info):\n",
    "    error_folder = \"error\"\n",
    "    os.makedirs(error_folder, exist_ok=True)\n",
    "    error_file = os.path.join(error_folder, f\"{project_name}_error.txt\")\n",
    "    with open(error_file, \"w\", encoding=\"utf-8\") as f:\n",
    "        f.write(error_info)\n",
    "\n",
    "\n",
    "class Simulation() :\n",
    "\n",
    "    def __init__(self) :\n",
    "\n",
    "        self.NUM_CORE = 4\n",
    "        self.NUM_TASK = 1\n",
    "\n",
    "        file_path = \"simulation_num.txt\"\n",
    "\n",
    "        # 파일이 존재하지 않으면 생성\n",
    "        if not os.path.exists(file_path):\n",
    "            with open(file_path, \"w\", encoding=\"utf-8\") as file:\n",
    "                file.write(\"1\")\n",
    "\n",
    "        # 읽기/쓰기 모드로 파일 열기\n",
    "        with open(file_path, \"r+\", encoding=\"utf-8\") as file:\n",
    "\n",
    "            # 파일에서 값 읽기\n",
    "            content = int(file.read().strip())\n",
    "            self.num = content\n",
    "            self.PROJECT_NAME = f\"simulation{content}\"\n",
    "            content += 1\n",
    "\n",
    "            # 파일 포인터를 처음으로 되돌리고, 파일 내용 초기화 후 새 값 쓰기\n",
    "            file.seek(0)\n",
    "            file.truncate()\n",
    "            file.write(str(content))\n",
    "\n",
    "            # 파일은 with 블록 종료 시 자동으로 닫히며, 잠금도 해제됨\n",
    "\n",
    "        print(f\"==========simulation{content}==========\")\n",
    "\n",
    "        os_name = platform.system()\n",
    "        if os_name == \"Windows\":\n",
    "            GUI = False\n",
    "        else :\n",
    "            GUI = True\n",
    "\n",
    "        self.desktop = pyDesktop(version=None, non_graphical=GUI)\n",
    "\n",
    "\n",
    "    def create_design(self, name) :\n",
    "        self.project = self.desktop.create_project()\n",
    "        self.maxwell_design = self.project.create_design(name=name, solver=\"Maxwell3d\", solution=None)\n",
    "        return self.maxwell_design\n",
    "\n",
    "    \n",
    "    def create_input_parameter(self, param_list=None) :\n",
    "        input_parameter = create_input_parameter(self.maxwell_design, param_list)\n",
    "        print(f\"input_parameter : {input_parameter}\")\n",
    "        print(\"input_parameter :\", \",\".join(str(float(v)) for v in input_parameter.values()))\n",
    "        return input_parameter\n",
    "\n",
    "\n",
    "    def set_variable(self, input_parameter) :\n",
    "        # 1. Simulation 클래스 인스턴스에 속성으로 값을 설정합니다 (예: self.N1 = 10).\n",
    "        for key, value in input_parameter.items():\n",
    "            setattr(self.maxwell_design, key, value)\n",
    "        \n",
    "        self.input_df = pd.DataFrame([input_parameter])\n",
    "        \n",
    "        # 2. input_parameter.py의 함수를 호출하여 Ansys 디자인에 변수를 설정합니다.\n",
    "        set_design_variables(self.maxwell_design, input_parameter)\n",
    "\n",
    "    def set_maxwell_analysis(self) :\n",
    "        self.maxwell_design.setup = self.maxwell_design.create_setup(name = \"Setup1\")\n",
    "        self.maxwell_design.setup.properties[\"Max. Number of Passes\"] = 3 # 10\n",
    "        self.maxwell_design.setup.properties[\"Min. Number of Passes\"] = 1\n",
    "        self.maxwell_design.setup.properties[\"Percent Error\"] = 5 # 2.5\n",
    "        self.maxwell_design.setup.properties[\"Frequency Setup\"] = f\"{self.maxwell_design.frequency}kHz\"\n",
    "\n",
    "    def create_core(self):\n",
    "        # self.maxwell_design.set_power_ferrite(cm=0.2435*1e-3, x=2.2, y=2.299)\n",
    "        self.maxwell_design.set_power_ferrite(cm=2.315, x=1.4472, y=2.4769)\n",
    "        self.maxwell_design.core = create_core_model(self.maxwell_design)\n",
    "\n",
    "\n",
    "    def create_face(self, design_obj):\n",
    "        create_face(design_obj)\n",
    "\n",
    "\n",
    "    def create_windings(self):\n",
    "        \"\"\"Creates both primary and secondary windings.\"\"\"\n",
    "        self.maxwell_design.winding1, self.maxwell_design.winding2, self.maxwell_design.winding3 = create_all_windings(self.maxwell_design)\n",
    "\n",
    "\n",
    "    def create_mold(self):\n",
    "        self.maxwell_design.mold = create_mold(self.maxwell_design)\n",
    "        self.maxwell_design.modeler.subtract(\n",
    "\t\t\t\t\t\tblank_list = [self.maxwell_design.mold],\n",
    "\t\t\t\t\t\ttool_list = [self.maxwell_design.core, self.maxwell_design.winding1, self.maxwell_design.winding2, self.maxwell_design.winding3],\n",
    "\t\t\t\t\t\tkeep_originals = True\n",
    "\t\t\t\t\t)\n",
    "\n",
    "    def create_cold_plate(self):\n",
    "        \"\"\"Creates the cold plates.\"\"\"\n",
    "        self.maxwell_design.cold_plate_top, self.maxwell_design.cold_plate_bottom = create_cold_plate(self.maxwell_design)\n",
    "\n",
    "    def create_air(self):\n",
    "        \"\"\"Creates the air region.\"\"\"\n",
    "        self.maxwell_design.air_region = create_air(self.maxwell_design)\n",
    "\n",
    "    def assign_meshing(self):\n",
    "        \"\"\"Assigns mesh operations.\"\"\"\n",
    "        self.maxwell_design.length_mesh, self.maxwell_design.skin_depth_mesh = assign_meshing(self.maxwell_design)\n",
    "\n",
    "    def assign_excitations(self):\n",
    "        \"\"\"Identifies terminals and assigns all excitations.\"\"\"\n",
    "        self.maxwell_design.Tx_winding, self.maxwell_design.Rx_winding1, self.maxwell_design.Rx_winding2 = assign_excitations(self.maxwell_design, self.maxwell_design.winding1, self.maxwell_design.winding2, self.maxwell_design.winding3)\n",
    "\n",
    "    def analyze_maxwell(self, design):\n",
    "        current_dir = os.getcwd()\n",
    "        folder_path = os.path.join(current_dir, \"simulation\", f\"{self.PROJECT_NAME}\")\n",
    "        os.makedirs(folder_path, exist_ok=True)  # 폴더가 없으면 생성\n",
    "        file_path = os.path.join(folder_path, f\"{self.PROJECT_NAME}.aedt\")\n",
    "        self.project.save_project(path=file_path)\n",
    "        \n",
    "        start_time = time.time()\n",
    "        print(f\"Maxwell analysis started...\")\n",
    "        design.analyze()\n",
    "        end_time = time.time()\n",
    "        print(f\"Maxwell analysis finished. Duration: {end_time - start_time:.2f} seconds.\")\n",
    "\n",
    "    def get_simulation_results(self, input=True, step=1):\n",
    "        current_dir = os.getcwd()\n",
    "        folder_path = os.path.join(current_dir, \"simulation\", f\"{self.PROJECT_NAME}\")\n",
    "        if input:\n",
    "            input_df = get_input_parameter(self.maxwell_design)\n",
    "            result_df = pd.concat([input_df], axis=1)\n",
    "        else:\n",
    "            result_df = self.results_df # Use existing df for second run\n",
    "\n",
    "        \n",
    "        if step == 1:\n",
    "            self.maxwell_design.magnetic_report, magnetic_df = get_maxwell_magnetic_parameter(self.maxwell_design, dir=folder_path, mod=\"write\", import_report=None)\n",
    "            self.maxwell_design.calculator_report, calculator_df = get_maxwell_calculator_parameter(self.maxwell_design, dir=folder_path, mod=\"write\", import_report=None)\n",
    "        else:\n",
    "            self.maxwell_design.magnetic_report, magnetic_df = get_maxwell_magnetic_parameter(self.maxwell_design, dir=folder_path, mod=\"read\", import_report=self.maxwell_design.magnetic_report)\n",
    "            self.maxwell_design.calculator_report, calculator_df = get_maxwell_calculator_parameter(self.maxwell_design, dir=folder_path, mod=\"read\", import_report=self.maxwell_design.calculator_report)\n",
    "        analysis_df = get_convergence_report(self.maxwell_design)\n",
    "\n",
    "        results_df = pd.concat([result_df, magnetic_df, calculator_df, analysis_df], axis=1)\n",
    "        self.results_df = results_df\n",
    "\n",
    "        return results_df\n",
    "\n",
    "    def save_results_to_csv(self, results_df, filename=\"simulation_results.csv\"):\n",
    "        \"\"\"Saves the DataFrame to a CSV file in a process-safe way.\"\"\"\n",
    "        lock_path = filename + \".lock\"\n",
    "        with FileLock(lock_path):\n",
    "            file_exists = os.path.isfile(filename)\n",
    "            results_df.to_csv(filename, mode='a', header=not file_exists, index=False)\n",
    "        print(f\"Results saved to {filename}\")\n",
    "\n",
    "\n",
    "    def second_simulation(self):\n",
    "\n",
    "        oProject = self.desktop.odesktop.SetActiveProject(self.project.name)\n",
    "        oProject.CopyDesign(self.maxwell_design.name)\n",
    "        oProject.Paste()\n",
    "\n",
    "        self.maxwell_design2 = self.maxwell_design.get_active_design()\n",
    "\n",
    "        oProject = self.desktop.odesktop.SetActiveProject(self.project.name)\n",
    "        oDesign = oProject.SetActiveDesign(self.maxwell_design2.design_name)\n",
    "\n",
    "        self.maxwell_design2.delete_mesh(self.maxwell_design.skin_depth_mesh)\n",
    "        \n",
    "        V = 750\n",
    "        Im = V/2/3.141592/self.maxwell_design.frequency/1e3/(float(self.results_df[\"Lmt1\"])*1e-6)\n",
    "\n",
    "        # re excitation\n",
    "        excitation_list=[self.maxwell_design.Tx_winding.name, self.maxwell_design.Rx_winding1.name, self.maxwell_design.Rx_winding2.name]\n",
    "        [self.maxwell_design2.Tx_winding, self.maxwell_design2.Rx_winding1, self.maxwell_design2.Rx_winding2] = self.maxwell_design2.get_excitation(excitation_name=excitation_list)\n",
    "\n",
    "        self.maxwell_design2.Tx_winding[\"Current\"] = f'{Im} * sqrt(2)A'\n",
    "        self.maxwell_design2.Rx_winding1[\"Current\"] = '0 * sqrt(2)A'\n",
    "        self.maxwell_design2.Rx_winding2[\"Current\"] = '0 * sqrt(2)A'\n",
    "\n",
    "        self.maxwell_design2.setup = self.maxwell_design2.get_setup(name=\"Setup1\")\n",
    "        self.maxwell_design2.setup.properties[\"Max. Number of Passes\"] = 10 # 10\n",
    "        self.maxwell_design2.setup.properties[\"Percent Error\"] = 1 # 2.5\n",
    "\n",
    "\n",
    "        self.analyze_maxwell(self.maxwell_design2)\n",
    "        self.get_simulation_results(input=False, step=2)\n",
    "\n",
    "    def create_icepak(self):\n",
    "\n",
    "        oProject = self.desktop.odesktop.SetActiveProject(self.project.name)\n",
    "        oDesign = oProject.SetActiveDesign(self.maxwell_design.design_name)\n",
    "        oDesign.CreateEMLossTarget(\"Icepak\", \"Setup1 : LastAdaptive\", \n",
    "            [\n",
    "                \"NAME:DesignSetup\",\n",
    "                \"Sim Type:=\"\t\t, \"Forced\"\n",
    "            ])\n",
    "        self.icepak_design = self.maxwell_design.get_active_design()\n",
    "\n",
    "        return self.icepak_design\n",
    "\n",
    "    def setup_icepak_analysis(self):\n",
    "        \"\"\"Sets up the Icepak analysis, including loss mapping and boundary conditions.\"\"\"\n",
    "\n",
    "        self.icepak_design.set_ambient_temp(temp=30)\n",
    "\n",
    "        # Recreate non-model sheet objects in Icepak for result evaluation\n",
    "        create_face(self.icepak_design)\n",
    "\n",
    "\n",
    "        # Delete default EM loss boundary that is automatically created        oProject = self.desktop.odesktop.SetActiveProject(self.project.name)\n",
    "        oDesign = self.icepak_design.odesign\n",
    "        oModule = oDesign.GetModule(\"BoundarySetup\")\n",
    "        oModule.DeleteBoundaries([\"EMLoss1\"])\n",
    "\n",
    "        # Assign EM Loss from Maxwell analysis to Icepak thermal simulation\n",
    "        self.icepak_design.assign_EM_loss(name=\"Coreloss\", objects=[self.maxwell_design.core], design=self.maxwell_design2, frequency=self.maxwell_design.frequency*1e+3, loss_mul=1)\n",
    "        self.icepak_design.assign_EM_loss(name=\"Windingloss\", objects=[self.maxwell_design.winding1, self.maxwell_design.winding2, self.maxwell_design.winding3], \n",
    "                                          design=self.maxwell_design, frequency=self.maxwell_design.frequency*1e+3, loss_mul=self.maxwell_design.winding_thermal_ratio)\n",
    "        # self.icepak_design.assign_EM_loss(name=\"Windingloss\", objects=[self.maxwell_design.winding1, self.maxwell_design.winding2], design=self.maxwell_design, frequency=self.freq, loss_mul=1)\n",
    "\n",
    "        # boundary setup\n",
    "        self.icepak_design.boundaries[1].properties[\"X Velocity\"] = f\"{self.maxwell_design.wind_speed}m_per_sec\"\n",
    "\n",
    "        # Configure Icepak analysis setup\n",
    "        self.icepak_design.icepak_cetup = self.icepak_design.get_setup(name=\"Setup1\")\n",
    "        self.icepak_design.icepak_cetup.props[\"Flow Regime\"] = \"Turbulent\"\n",
    "        self.icepak_design.icepak_cetup.props[\"Include Gravity\"] = True\n",
    "        self.icepak_design.icepak_cetup.props[\"Solution Initialization - Z Velocity\"] = \"0.1m_per_sec\"\n",
    "\n",
    "        # Map cold plate objects from Maxwell to Icepak\n",
    "        self.icepak_design.cold_plate_top = self.icepak_design.model3d.find_object(self.maxwell_design.cold_plate_top)\n",
    "        self.icepak_design.cold_plate_bottom = self.icepak_design.model3d.find_object(self.maxwell_design.cold_plate_bottom)\n",
    "        self.icepak_design.winding1 = self.icepak_design.model3d.find_object(self.maxwell_design.winding1)\n",
    "        self.icepak_design.winding2 = self.icepak_design.model3d.find_object(self.maxwell_design.winding2)\n",
    "        self.icepak_design.winding3 = self.icepak_design.model3d.find_object(self.maxwell_design.winding3)\n",
    "        self.icepak_design.core = self.icepak_design.model3d.find_object(self.maxwell_design.core)  \n",
    "        self.icepak_design.leg_left = self.icepak_design.model3d.find_object(self.maxwell_design.leg_left)\n",
    "        self.icepak_design.leg_right = self.icepak_design.model3d.find_object(self.maxwell_design.leg_right)\n",
    "        self.icepak_design.leg_center = self.icepak_design.model3d.find_object(self.maxwell_design.leg_center)\n",
    "        self.icepak_design.leg_top_left = self.icepak_design.model3d.find_object(self.maxwell_design.leg_top_left)\n",
    "        self.icepak_design.leg_top_right = self.icepak_design.model3d.find_object(self.maxwell_design.leg_top_right)\n",
    "        self.icepak_design.leg_bottom_left = self.icepak_design.model3d.find_object(self.maxwell_design.leg_bottom_left)\n",
    "        self.icepak_design.leg_bottom_right = self.icepak_design.model3d.find_object(self.maxwell_design.leg_bottom_right)\n",
    "\n",
    "        # Assign fixed temperature boundary condition to the cold plates\n",
    "        self.icepak_design.assign_icepak_source(\n",
    "            assignment=[self.icepak_design.cold_plate_top, self.icepak_design.cold_plate_bottom], \n",
    "            thermal_condition=\"Fixed Temperature\", \n",
    "            assignment_value=\"AmbientTemp\", \n",
    "            boundary_name=\"cold_plate\"\n",
    "        )\n",
    "\n",
    "    def analyze_icepak(self):\n",
    "        \"\"\"Runs the Icepak analysis.\"\"\"\n",
    "        start_time = time.time()\n",
    "        print(f\"Icepak analysis started...\")\n",
    "        self.icepak_design.analyze()\n",
    "        end_time = time.time()\n",
    "        print(f\"Icepak analysis finished. Duration: {end_time - start_time:.2f} seconds.\")\n",
    "\n",
    "    def get_icepak_results(self):\n",
    "        \"\"\"Retrieves and processes results from the Icepak simulation.\"\"\"\n",
    "        \n",
    "\n",
    "        # Define the temperature parameters to be extracted\n",
    "        current_dir = os.getcwd()\n",
    "        folder_path = os.path.join(current_dir, \"simulation\", f\"{self.PROJECT_NAME}\")\n",
    "        \n",
    "        # Get results using the calculator\n",
    "        self.icepak_design.calculator_report, icepak_results_df = get_icepak_calculator_parameter(\n",
    "            self.icepak_design, dir=folder_path\n",
    "        )\n",
    "        \n",
    "        # Concatenate Icepak results with the main results DataFrame\n",
    "        self.results_df = pd.concat([self.results_df, icepak_results_df], axis=1)\n",
    "\n",
    "\n",
    "    def close_project(self):\n",
    "        self.maxwell_design.cleanup_solution()\n",
    "        self.icepak_design.cleanup_solution()\n",
    "\n",
    "        self.maxwell_design.close_project()\n",
    "\n",
    "        self.desktop.release_desktop(close_projects=True, close_on_exit=True)\n",
    "\n",
    "    def delete_project_folder(self):\n",
    "        time.sleep(10)\n",
    "        try:\n",
    "            project_folder = os.path.join(os.getcwd(), \"simulation\", self.PROJECT_NAME)\n",
    "            if os.path.isdir(project_folder):\n",
    "                shutil.rmtree(project_folder)\n",
    "                print(f\"Successfully deleted project folder: {project_folder}\")\n",
    "        except Exception as e:\n",
    "            print(f\"Error deleting project folder {project_folder}: {e}\", file=sys.stderr)"
   ]
  },
  {
   "cell_type": "code",
   "execution_count": 2,
   "metadata": {},
   "outputs": [
    {
     "name": "stdout",
     "output_type": "stream",
     "text": [
      "==========simulation63==========\n",
      "PyAEDT INFO: Python version 3.11.11 | packaged by Anaconda, Inc. | (main, Dec 11 2024, 16:34:19) [MSC v.1929 64 bit (AMD64)].\n",
      "PyAEDT INFO: PyAEDT version 0.15.0.\n",
      "PyAEDT INFO: Initializing new Desktop session.\n",
      "PyAEDT INFO: Log on console is enabled.\n",
      "PyAEDT INFO: Log on file C:\\Users\\NEC_59~1\\AppData\\Local\\Temp\\pyaedt_NEC_5950X1_4b4275c4-91b4-4cae-926c-0e26ea477881.log is enabled.\n",
      "PyAEDT INFO: Log on AEDT is enabled.\n",
      "PyAEDT INFO: Debug logger is disabled. PyAEDT methods will not be logged.\n",
      "PyAEDT INFO: Launching PyAEDT with gRPC plugin.\n",
      "PyAEDT INFO: New AEDT session is starting on gRPC port 57688.\n",
      "PyAEDT ERROR: Error getting status: Cannot connect to license server system. (-15,10:10061 \"WinSock: Connection refused\")\n",
      "PyAEDT WARNING: Electronics Desktop license not found on the default license server.\n",
      "PyAEDT INFO: Electronics Desktop started on gRPC port: 57688 after 5.647041320800781 seconds.\n",
      "PyAEDT INFO: AEDT installation Path C:\\Program Files\\AnsysEM\\v242\\Win64\n",
      "PyAEDT INFO: Ansoft.ElectronicsDesktop.2024.2 version started with process ID 8400.\n",
      "PyAEDT INFO: Python version 3.11.11 | packaged by Anaconda, Inc. | (main, Dec 11 2024, 16:34:19) [MSC v.1929 64 bit (AMD64)].\n",
      "PyAEDT INFO: PyAEDT version 0.15.0.\n",
      "PyAEDT INFO: Returning found Desktop session with PID 8400!\n",
      "PyAEDT INFO: No project is defined. Project Project_Y4P exists and has been read.\n",
      "PyAEDT INFO: Added design 'SST_MFT' of type Maxwell 3D.\n",
      "PyAEDT INFO: Aedt Objects correctly read\n",
      "input_parameter : {'N1': 12, 'N2': 12, 'N1_layer': 1, 'N2_layer': 1, 'frequency': 16, 'per': 13882, 'w1': np.float64(168.0), 'l1_top': np.float64(33.176), 'l1_top_ratio': np.float64(1.04), 'l1_side_ratio': np.float64(1.17), 'l1_center': np.float64(63.8), 'l1_side': np.float64(37.32299999999999), 'l2': np.float64(142.01430923076924), 'l2_gap': np.float64(36.0), 'h1': np.float64(270.6), 'h1_gap': np.float64(57.88134), 'h2_gap': np.float64(30.212490000000006), 'N1_height_ratio': np.float64(0.54), 'N1_fill_factor': np.float64(0.7), 'N1_coil_diameter': np.float64(7.868215384615386), 'N1_coil_zgap': np.float64(3.6531000000000007), 'N2_height_ratio': np.float64(0.71), 'N2_fill_factor': np.float64(0.94), 'N2_coil_diameter': np.float64(6.946093846153845), 'N2_coil_zgap': np.float64(0.48031500000000094), 'N1_space_w': np.float64(34.5), 'N1_space_l': np.float64(21.7), 'N2_space_w': np.float64(14.4), 'N2_space_l': np.float64(19.8), 'N1_layer_gap': np.float64(5.1), 'N2_layer_gap': np.float64(8.5), 'N1_offset_ratio': np.float64(-0.07), 'N2_offset_ratio': np.float64(0.46), 'N1_offset': np.float64(-4.356660000000001), 'N2_offset': np.float64(9.024510000000003), 'cold_plate_x': np.float64(0.0), 'cold_plate_y': np.float64(0.0), 'cold_plate_z1': np.float64(23.3), 'cold_plate_z2': np.float64(0.01), 'mold_thick': np.float64(49.7), 'thermal_conductivity': np.float64(0.98), 'winding_thermal_ratio': np.float64(0.64), 'wind_speed': np.float64(12.6)}\n",
      "input_parameter : 12.0,12.0,1.0,1.0,16.0,13882.0,168.0,33.176,1.04,1.17,63.8,37.32299999999999,142.01430923076924,36.0,270.6,57.88134,30.212490000000006,0.54,0.7,7.868215384615386,3.6531000000000007,0.71,0.94,6.946093846153845,0.48031500000000094,34.5,21.7,14.4,19.8,5.1,8.5,-0.07,0.46,-4.356660000000001,9.024510000000003,0.0,0.0,23.3,0.01,49.7,0.98,0.64,12.6\n",
      "Ansys 디자인 변수가 설정되었습니다.\n",
      "PyAEDT INFO: Materials class has been initialized! Elapsed time: 0m 0sec\n",
      "PyAEDT INFO: Modeler class has been initialized! Elapsed time: 0m 0sec\n",
      "PyAEDT INFO: Parsing design objects. This operation can take time\n",
      "PyAEDT INFO: Refreshing bodies from Object Info\n",
      "PyAEDT INFO: Bodies Info Refreshed Elapsed time: 0m 0sec\n",
      "PyAEDT INFO: 3D Modeler objects parsed. Elapsed time: 0m 0sec\n",
      "Core created successfully.\n",
      "Winding 'winding1' created successfully.\n",
      "Winding 'winding2' created successfully.\n",
      "Winding 'winding3' created successfully.\n",
      "PyAEDT INFO: Parsing design objects. This operation can take time\n",
      "PyAEDT INFO: Refreshing bodies from Object Info\n",
      "PyAEDT INFO: Bodies Info Refreshed Elapsed time: 0m 0sec\n",
      "PyAEDT INFO: 3D Modeler objects parsed. Elapsed time: 0m 0sec\n",
      "Top cold plate created successfully.\n",
      "PyAEDT INFO: Parsing design objects. This operation can take time\n",
      "PyAEDT INFO: Refreshing bodies from Object Info\n",
      "PyAEDT INFO: Bodies Info Refreshed Elapsed time: 0m 0sec\n",
      "PyAEDT INFO: 3D Modeler objects parsed. Elapsed time: 0m 0sec\n",
      "Bottom cold plate created successfully.\n",
      "PyAEDT INFO: Boundary Radiation Radiation has been created.\n",
      "Air region and radiation boundary created successfully.\n",
      "PyAEDT INFO: Mesh class has been initialized! Elapsed time: 0m 0sec\n",
      "PyAEDT INFO: Mesh class has been initialized! Elapsed time: 0m 0sec\n",
      "Mesh operations assigned successfully.\n",
      "PyAEDT INFO: Boundary CoilTerminal Tx_in has been created.\n",
      "PyAEDT INFO: Boundary CoilTerminal Tx_out has been created.\n",
      "PyAEDT INFO: Boundary CoilTerminal Rx1_in has been created.\n",
      "PyAEDT INFO: Boundary CoilTerminal Rx1_out has been created.\n",
      "PyAEDT INFO: Boundary CoilTerminal Rx2_in has been created.\n",
      "PyAEDT INFO: Boundary CoilTerminal Rx2_out has been created.\n",
      "PyAEDT INFO: Boundary Winding Tx_Winding has been created.\n",
      "PyAEDT INFO: Boundary Winding Rx1_Winding has been created.\n",
      "PyAEDT INFO: Boundary Winding Rx2_Winding has been created.\n",
      "PyAEDT INFO: Infinite is the only return path option in EddyCurrent.\n",
      "PyAEDT INFO: Boundary Matrix Matrix has been created.\n",
      "Excitations assigned successfully.\n",
      "Maxwell analysis started...\n",
      "PyAEDT INFO: Key Desktop/ActiveDSOConfigurations/Maxwell 3D correctly changed.\n",
      "PyAEDT INFO: Solving all design setups.\n",
      "PyAEDT INFO: Key Desktop/ActiveDSOConfigurations/Maxwell 3D correctly changed.\n",
      "PyAEDT INFO: Design setup None solved correctly in 0.0h 3.0m 56.0s\n",
      "Maxwell analysis finished. Duration: 236.48 seconds.\n",
      "PyAEDT INFO: Parsing y:/git/insulation_amp/pyaedt_library/example/MFT_TAB/simulation/simulation62/simulation62.aedt.\n",
      "PyAEDT INFO: File y:/git/insulation_amp/pyaedt_library/example/MFT_TAB/simulation/simulation62/simulation62.aedt correctly loaded. Elapsed time: 0m 0sec\n",
      "PyAEDT INFO: aedt file load time 0.49842405319213867\n",
      "PyAEDT INFO: PostProcessor class has been initialized! Elapsed time: 0m 1sec\n",
      "PyAEDT INFO: Post class has been initialized! Elapsed time: 0m 1sec\n",
      "PyAEDT INFO: Export Convergence to  y:\\git\\insulation_amp\\pyaedt_library\\example\\MFT_TAB\\simulation\\simulation62\\simulation62.pyaedt\\SST_MFT\\Convergence_X1SGEV.prop\n",
      "PyAEDT INFO: Active Design set to SST_MFT1\n",
      "PyAEDT INFO: Active Design set to SST_MFT1\n",
      "PyAEDT INFO: Python version 3.11.11 | packaged by Anaconda, Inc. | (main, Dec 11 2024, 16:34:19) [MSC v.1929 64 bit (AMD64)].\n",
      "PyAEDT INFO: PyAEDT version 0.15.0.\n",
      "PyAEDT INFO: Returning found Desktop session with PID 8400!\n",
      "PyAEDT INFO: No project is defined. Project simulation62 exists and has been read.\n",
      "PyAEDT INFO: Active Design set to SST_MFT1\n",
      "PyAEDT INFO: Aedt Objects correctly read\n",
      "PyAEDT WARNING: Key Current not found. Trying to applying new key \n",
      "PyAEDT WARNING: Key Current not found. Trying to applying new key \n",
      "PyAEDT WARNING: Key Current not found. Trying to applying new key \n",
      "Maxwell analysis started...\n",
      "PyAEDT INFO: Key Desktop/ActiveDSOConfigurations/Maxwell 3D correctly changed.\n",
      "PyAEDT INFO: Solving all design setups.\n",
      "PyAEDT INFO: Key Desktop/ActiveDSOConfigurations/Maxwell 3D correctly changed.\n",
      "PyAEDT INFO: Design setup None solved correctly in 0.0h 1.0m 50.0s\n",
      "Maxwell analysis finished. Duration: 109.89 seconds.\n",
      "PyAEDT INFO: Export Convergence to  y:\\git\\insulation_amp\\pyaedt_library\\example\\MFT_TAB\\simulation\\simulation62\\simulation62.pyaedt\\SST_MFT\\Convergence_6IXHWG.prop\n",
      "PyAEDT INFO: Active Design set to IcepakDesign1\n",
      "PyAEDT INFO: Active Design set to IcepakDesign1\n",
      "PyAEDT INFO: Python version 3.11.11 | packaged by Anaconda, Inc. | (main, Dec 11 2024, 16:34:19) [MSC v.1929 64 bit (AMD64)].\n",
      "PyAEDT INFO: PyAEDT version 0.15.0.\n",
      "PyAEDT INFO: Returning found Desktop session with PID 8400!\n",
      "PyAEDT INFO: No project is defined. Project simulation62 exists and has been read.\n",
      "PyAEDT INFO: Active Design set to IcepakDesign1\n",
      "PyAEDT INFO: Aedt Objects correctly read\n",
      "PyAEDT INFO: Modeler class has been initialized! Elapsed time: 0m 0sec\n",
      "PyAEDT INFO: Materials class has been initialized! Elapsed time: 0m 0sec\n",
      "PyAEDT INFO: Parsing y:/git/insulation_amp/pyaedt_library/example/MFT_TAB/simulation/simulation62/simulation62.aedt.\n",
      "PyAEDT INFO: File y:/git/insulation_amp/pyaedt_library/example/MFT_TAB/simulation/simulation62/simulation62.aedt correctly loaded. Elapsed time: 0m 1sec\n",
      "PyAEDT INFO: aedt file load time 1.1820063591003418\n",
      "PyAEDT INFO: Boundary SourceIcepak cold_plate has been created.\n",
      "Icepak analysis started...\n",
      "PyAEDT INFO: Key Desktop/ActiveDSOConfigurations/Icepak correctly changed.\n",
      "PyAEDT INFO: Solving all design setups.\n",
      "PyAEDT INFO: Key Desktop/ActiveDSOConfigurations/Icepak correctly changed.\n",
      "PyAEDT INFO: Design setup None solved correctly in 0.0h 5.0m 43.0s\n",
      "Icepak analysis finished. Duration: 343.38 seconds.\n",
      "PyAEDT INFO: PostProcessor class has been initialized! Elapsed time: 0m 0sec\n",
      "PyAEDT INFO: Post class has been initialized! Elapsed time: 0m 0sec\n",
      "PyAEDT WARNING: Argument `plotname` is deprecated for method `create_report`; use `plot_name` instead.\n"
     ]
    }
   ],
   "source": [
    "simulation_runner = Simulation()\n",
    "# 2. create_design 메서드를 호출하여 프로젝트와 디자인을 초기화합니다.\n",
    "simulation_runner.create_design(\"SST_MFT\")\n",
    "\n",
    "# 3. 이제 입력 매개변수를 생성할 수 있습니다.\n",
    "input_parameters = simulation_runner.create_input_parameter()\n",
    "\n",
    "# 4. 생성된 파라미터를 Simulation 객체와 Ansys 디자인에 설정합니다.\n",
    "simulation_runner.set_variable(input_parameters)\n",
    "\n",
    "# 5. 해석 설정 및 실행\n",
    "simulation_runner.set_maxwell_analysis()\n",
    "\n",
    "# 6. 모델을 생성합니다.\n",
    "simulation_runner.create_core()\n",
    "\n",
    "simulation_runner.create_face(simulation_runner.maxwell_design)\n",
    "simulation_runner.create_windings()\n",
    "simulation_runner.create_mold()\n",
    "simulation_runner.create_cold_plate()\n",
    "simulation_runner.create_air()\n",
    "\n",
    "# 7. 메쉬 및 경계조건 설정\n",
    "simulation_runner.assign_meshing()\n",
    "simulation_runner.assign_excitations()\n",
    "\n",
    "# 8. 해석 설정 및 실행\n",
    "simulation_runner.analyze_maxwell(simulation_runner.maxwell_design)\n",
    "\n",
    "# 9. 결과 리포팅\n",
    "simulation_runner.get_simulation_results(input=True)\n",
    "\n",
    "# 10. 두 번째 해석 실행\n",
    "simulation_runner.second_simulation()\n",
    "\n",
    "# 11. Icepak 디자인 생성\n",
    "simulation_runner.create_icepak()       \n",
    "\n",
    "# 12. Icepak 해석 설정\n",
    "simulation_runner.setup_icepak_analysis()\n",
    "\n",
    "# 13. Icepak 해석 실행\n",
    "simulation_runner.analyze_icepak()\n",
    "\n",
    "# 14. Icepak 결과 리포팅\n",
    "simulation_runner.get_icepak_results()"
   ]
  },
  {
   "cell_type": "code",
   "execution_count": null,
   "metadata": {},
   "outputs": [
    {
     "name": "stdout",
     "output_type": "stream",
     "text": [
      "==========simulation3==========\n",
      "PyAEDT INFO: Python version 3.11.11 | packaged by Anaconda, Inc. | (main, Dec 11 2024, 16:34:19) [MSC v.1929 64 bit (AMD64)].\n"
     ]
    },
    {
     "name": "stderr",
     "output_type": "stream",
     "text": [
      "INFO:Global:Python version 3.11.11 | packaged by Anaconda, Inc. | (main, Dec 11 2024, 16:34:19) [MSC v.1929 64 bit (AMD64)].\n"
     ]
    },
    {
     "name": "stdout",
     "output_type": "stream",
     "text": [
      "PyAEDT INFO: PyAEDT version 0.15.0.\n"
     ]
    },
    {
     "name": "stderr",
     "output_type": "stream",
     "text": [
      "INFO:Global:PyAEDT version 0.15.0.\n"
     ]
    },
    {
     "name": "stdout",
     "output_type": "stream",
     "text": [
      "PyAEDT INFO: Initializing new Desktop session.\n"
     ]
    },
    {
     "name": "stderr",
     "output_type": "stream",
     "text": [
      "INFO:Global:Initializing new Desktop session.\n"
     ]
    },
    {
     "name": "stdout",
     "output_type": "stream",
     "text": [
      "PyAEDT INFO: Log on console is enabled.\n"
     ]
    },
    {
     "name": "stderr",
     "output_type": "stream",
     "text": [
      "INFO:Global:Log on console is enabled.\n"
     ]
    },
    {
     "name": "stdout",
     "output_type": "stream",
     "text": [
      "PyAEDT INFO: Log on file C:\\Users\\NEC_59~1\\AppData\\Local\\Temp\\pyaedt_NEC_5950X1_cd0c6872-a7e8-4208-abc1-7934dec67637.log is enabled.\n"
     ]
    },
    {
     "name": "stderr",
     "output_type": "stream",
     "text": [
      "INFO:Global:Log on file C:\\Users\\NEC_59~1\\AppData\\Local\\Temp\\pyaedt_NEC_5950X1_cd0c6872-a7e8-4208-abc1-7934dec67637.log is enabled.\n"
     ]
    },
    {
     "name": "stdout",
     "output_type": "stream",
     "text": [
      "PyAEDT INFO: Log on AEDT is enabled.\n"
     ]
    },
    {
     "name": "stderr",
     "output_type": "stream",
     "text": [
      "INFO:Global:Log on AEDT is enabled.\n"
     ]
    },
    {
     "name": "stdout",
     "output_type": "stream",
     "text": [
      "PyAEDT INFO: Debug logger is disabled. PyAEDT methods will not be logged.\n"
     ]
    },
    {
     "name": "stderr",
     "output_type": "stream",
     "text": [
      "INFO:Global:Debug logger is disabled. PyAEDT methods will not be logged.\n"
     ]
    },
    {
     "name": "stdout",
     "output_type": "stream",
     "text": [
      "PyAEDT INFO: Launching PyAEDT with gRPC plugin.\n"
     ]
    },
    {
     "name": "stderr",
     "output_type": "stream",
     "text": [
      "INFO:Global:Launching PyAEDT with gRPC plugin.\n"
     ]
    },
    {
     "name": "stdout",
     "output_type": "stream",
     "text": [
      "PyAEDT INFO: New AEDT session is starting on gRPC port 53072.\n"
     ]
    },
    {
     "name": "stderr",
     "output_type": "stream",
     "text": [
      "INFO:Global:New AEDT session is starting on gRPC port 53072.\n"
     ]
    },
    {
     "name": "stdout",
     "output_type": "stream",
     "text": [
      "PyAEDT ERROR: Error getting status: Cannot connect to license server system. (-15,10:10061 \"WinSock: Connection refused\")\n"
     ]
    },
    {
     "name": "stderr",
     "output_type": "stream",
     "text": [
      "ERROR:Global:Error getting status: Cannot connect to license server system. (-15,10:10061 \"WinSock: Connection refused\")\n"
     ]
    },
    {
     "name": "stdout",
     "output_type": "stream",
     "text": [
      "PyAEDT WARNING: Electronics Desktop license not found on the default license server.\n"
     ]
    },
    {
     "name": "stderr",
     "output_type": "stream",
     "text": [
      "WARNING:Global:Electronics Desktop license not found on the default license server.\n"
     ]
    },
    {
     "name": "stdout",
     "output_type": "stream",
     "text": [
      "PyAEDT INFO: Electronics Desktop started on gRPC port: 53072 after 6.1237475872039795 seconds.\n"
     ]
    },
    {
     "name": "stderr",
     "output_type": "stream",
     "text": [
      "INFO:Global:Electronics Desktop started on gRPC port: 53072 after 6.1237475872039795 seconds.\n"
     ]
    },
    {
     "name": "stdout",
     "output_type": "stream",
     "text": [
      "PyAEDT INFO: AEDT installation Path C:\\Program Files\\AnsysEM\\v242\\Win64\n"
     ]
    },
    {
     "name": "stderr",
     "output_type": "stream",
     "text": [
      "INFO:Global:AEDT installation Path C:\\Program Files\\AnsysEM\\v242\\Win64\n"
     ]
    },
    {
     "name": "stdout",
     "output_type": "stream",
     "text": [
      "PyAEDT INFO: Ansoft.ElectronicsDesktop.2024.2 version started with process ID 16648.\n"
     ]
    },
    {
     "name": "stderr",
     "output_type": "stream",
     "text": [
      "INFO:Global:Ansoft.ElectronicsDesktop.2024.2 version started with process ID 16648.\n"
     ]
    },
    {
     "name": "stdout",
     "output_type": "stream",
     "text": [
      "PyAEDT INFO: Python version 3.11.11 | packaged by Anaconda, Inc. | (main, Dec 11 2024, 16:34:19) [MSC v.1929 64 bit (AMD64)].\n"
     ]
    },
    {
     "name": "stderr",
     "output_type": "stream",
     "text": [
      "INFO:Global:Python version 3.11.11 | packaged by Anaconda, Inc. | (main, Dec 11 2024, 16:34:19) [MSC v.1929 64 bit (AMD64)].\n"
     ]
    },
    {
     "name": "stdout",
     "output_type": "stream",
     "text": [
      "PyAEDT INFO: PyAEDT version 0.15.0.\n"
     ]
    },
    {
     "name": "stderr",
     "output_type": "stream",
     "text": [
      "INFO:Global:PyAEDT version 0.15.0.\n"
     ]
    },
    {
     "name": "stdout",
     "output_type": "stream",
     "text": [
      "PyAEDT INFO: Returning found Desktop session with PID 16648!\n"
     ]
    },
    {
     "name": "stderr",
     "output_type": "stream",
     "text": [
      "INFO:Global:Returning found Desktop session with PID 16648!\n"
     ]
    },
    {
     "name": "stdout",
     "output_type": "stream",
     "text": [
      "PyAEDT INFO: No project is defined. Project Project_4OT exists and has been read.\n"
     ]
    },
    {
     "name": "stderr",
     "output_type": "stream",
     "text": [
      "INFO:Global:No project is defined. Project Project_4OT exists and has been read.\n"
     ]
    },
    {
     "name": "stdout",
     "output_type": "stream",
     "text": [
      "PyAEDT INFO: Added design 'SST_MFT' of type Maxwell 3D.\n"
     ]
    },
    {
     "name": "stderr",
     "output_type": "stream",
     "text": [
      "INFO:Global:Added design 'SST_MFT' of type Maxwell 3D.\n"
     ]
    },
    {
     "name": "stdout",
     "output_type": "stream",
     "text": [
      "PyAEDT INFO: Aedt Objects correctly read\n"
     ]
    },
    {
     "name": "stderr",
     "output_type": "stream",
     "text": [
      "INFO:Global:Aedt Objects correctly read\n"
     ]
    },
    {
     "name": "stdout",
     "output_type": "stream",
     "text": [
      "input_parameter : {'N1': 7, 'N2': 7, 'N1_layer': 1, 'N2_layer': 1, 'frequency': 33, 'per': 6234, 'w1': np.float64(180.9), 'l1_top': np.float64(36.215999999999994), 'l1_top_ratio': np.float64(0.72), 'l1_side_ratio': np.float64(0.93), 'l1_center': np.float64(100.6), 'l1_side': np.float64(46.778999999999996), 'l2': np.float64(98.22004375), 'l2_gap': np.float64(9.6), 'h1': np.float64(282.6), 'h1_gap': np.float64(17.266859999999998), 'h2_gap': np.float64(10.413810000000005), 'N1_height_ratio': np.float64(0.74), 'N1_fill_factor': np.float64(0.74), 'N1_coil_diameter': np.float64(19.343970000000002), 'N1_coil_zgap': np.float64(7.767462857142858), 'N2_height_ratio': np.float64(0.89), 'N2_fill_factor': np.float64(0.87), 'N2_coil_diameter': np.float64(13.67607375), 'N2_coil_zgap': np.float64(2.335487142857143), 'N1_space_w': np.float64(31.0), 'N1_space_l': np.float64(16.1), 'N2_space_w': np.float64(6.4), 'N2_space_l': np.float64(18.5), 'N1_layer_gap': np.float64(6.6), 'N2_layer_gap': np.float64(8.6), 'N1_offset_ratio': np.float64(0.53), 'N2_offset_ratio': np.float64(0.66), 'N1_offset': np.float64(19.471140000000002), 'N2_offset': np.float64(5.129190000000002), 'cold_plate_x': np.float64(0.0), 'cold_plate_y': np.float64(0.0), 'cold_plate_z1': np.float64(40.9), 'cold_plate_z2': np.float64(0.07), 'mold_thick': np.float64(21.0), 'thermal_conductivity': np.float64(0.75), 'winding_thermal_ratio': np.float64(0.41), 'wind_speed': np.float64(9.7)}\n",
      "input_parameter : 7.0,7.0,1.0,1.0,33.0,6234.0,180.9,36.215999999999994,0.72,0.93,100.6,46.778999999999996,98.22004375,9.6,282.6,17.266859999999998,10.413810000000005,0.74,0.74,19.343970000000002,7.767462857142858,0.89,0.87,13.67607375,2.335487142857143,31.0,16.1,6.4,18.5,6.6,8.6,0.53,0.66,19.471140000000002,5.129190000000002,0.0,0.0,40.9,0.07,21.0,0.75,0.41,9.7\n",
      "Ansys 디자인 변수가 설정되었습니다.\n",
      "PyAEDT INFO: Materials class has been initialized! Elapsed time: 0m 0sec\n"
     ]
    },
    {
     "name": "stderr",
     "output_type": "stream",
     "text": [
      "INFO:Global:Materials class has been initialized! Elapsed time: 0m 0sec\n"
     ]
    },
    {
     "name": "stdout",
     "output_type": "stream",
     "text": [
      "PyAEDT INFO: Modeler class has been initialized! Elapsed time: 0m 2sec\n"
     ]
    },
    {
     "name": "stderr",
     "output_type": "stream",
     "text": [
      "INFO:Global:Modeler class has been initialized! Elapsed time: 0m 2sec\n"
     ]
    },
    {
     "name": "stdout",
     "output_type": "stream",
     "text": [
      "PyAEDT INFO: Parsing design objects. This operation can take time\n"
     ]
    },
    {
     "name": "stderr",
     "output_type": "stream",
     "text": [
      "INFO:Global:Parsing design objects. This operation can take time\n"
     ]
    },
    {
     "name": "stdout",
     "output_type": "stream",
     "text": [
      "PyAEDT INFO: Refreshing bodies from Object Info\n"
     ]
    },
    {
     "name": "stderr",
     "output_type": "stream",
     "text": [
      "INFO:Global:Refreshing bodies from Object Info\n"
     ]
    },
    {
     "name": "stdout",
     "output_type": "stream",
     "text": [
      "PyAEDT INFO: Bodies Info Refreshed Elapsed time: 0m 0sec\n"
     ]
    },
    {
     "name": "stderr",
     "output_type": "stream",
     "text": [
      "INFO:Global:Bodies Info Refreshed Elapsed time: 0m 0sec\n"
     ]
    },
    {
     "name": "stdout",
     "output_type": "stream",
     "text": [
      "PyAEDT INFO: 3D Modeler objects parsed. Elapsed time: 0m 0sec\n"
     ]
    },
    {
     "name": "stderr",
     "output_type": "stream",
     "text": [
      "INFO:Global:3D Modeler objects parsed. Elapsed time: 0m 0sec\n"
     ]
    },
    {
     "name": "stdout",
     "output_type": "stream",
     "text": [
      "Core created successfully.\n",
      "Winding 'winding1' created successfully.\n",
      "Winding 'winding2' created successfully.\n",
      "Winding 'winding3' created successfully.\n",
      "PyAEDT INFO: Parsing design objects. This operation can take time\n"
     ]
    },
    {
     "name": "stderr",
     "output_type": "stream",
     "text": [
      "INFO:Global:Parsing design objects. This operation can take time\n"
     ]
    },
    {
     "name": "stdout",
     "output_type": "stream",
     "text": [
      "PyAEDT INFO: Refreshing bodies from Object Info\n"
     ]
    },
    {
     "name": "stderr",
     "output_type": "stream",
     "text": [
      "INFO:Global:Refreshing bodies from Object Info\n"
     ]
    },
    {
     "name": "stdout",
     "output_type": "stream",
     "text": [
      "PyAEDT INFO: Bodies Info Refreshed Elapsed time: 0m 0sec\n"
     ]
    },
    {
     "name": "stderr",
     "output_type": "stream",
     "text": [
      "INFO:Global:Bodies Info Refreshed Elapsed time: 0m 0sec\n"
     ]
    },
    {
     "name": "stdout",
     "output_type": "stream",
     "text": [
      "PyAEDT INFO: 3D Modeler objects parsed. Elapsed time: 0m 0sec\n"
     ]
    },
    {
     "name": "stderr",
     "output_type": "stream",
     "text": [
      "INFO:Global:3D Modeler objects parsed. Elapsed time: 0m 0sec\n"
     ]
    },
    {
     "name": "stdout",
     "output_type": "stream",
     "text": [
      "Top cold plate created successfully.\n",
      "PyAEDT INFO: Parsing design objects. This operation can take time\n"
     ]
    },
    {
     "name": "stderr",
     "output_type": "stream",
     "text": [
      "INFO:Global:Parsing design objects. This operation can take time\n"
     ]
    },
    {
     "name": "stdout",
     "output_type": "stream",
     "text": [
      "PyAEDT INFO: Refreshing bodies from Object Info\n"
     ]
    },
    {
     "name": "stderr",
     "output_type": "stream",
     "text": [
      "INFO:Global:Refreshing bodies from Object Info\n"
     ]
    },
    {
     "name": "stdout",
     "output_type": "stream",
     "text": [
      "PyAEDT INFO: Bodies Info Refreshed Elapsed time: 0m 0sec\n"
     ]
    },
    {
     "name": "stderr",
     "output_type": "stream",
     "text": [
      "INFO:Global:Bodies Info Refreshed Elapsed time: 0m 0sec\n"
     ]
    },
    {
     "name": "stdout",
     "output_type": "stream",
     "text": [
      "PyAEDT INFO: 3D Modeler objects parsed. Elapsed time: 0m 0sec\n"
     ]
    },
    {
     "name": "stderr",
     "output_type": "stream",
     "text": [
      "INFO:Global:3D Modeler objects parsed. Elapsed time: 0m 0sec\n"
     ]
    },
    {
     "name": "stdout",
     "output_type": "stream",
     "text": [
      "Bottom cold plate created successfully.\n",
      "PyAEDT INFO: Boundary Radiation Radiation has been created.\n"
     ]
    },
    {
     "name": "stderr",
     "output_type": "stream",
     "text": [
      "INFO:Global:Boundary Radiation Radiation has been created.\n"
     ]
    },
    {
     "name": "stdout",
     "output_type": "stream",
     "text": [
      "Air region and radiation boundary created successfully.\n",
      "PyAEDT INFO: Mesh class has been initialized! Elapsed time: 0m 0sec\n"
     ]
    },
    {
     "name": "stderr",
     "output_type": "stream",
     "text": [
      "INFO:Global:Mesh class has been initialized! Elapsed time: 0m 0sec\n"
     ]
    },
    {
     "name": "stdout",
     "output_type": "stream",
     "text": [
      "PyAEDT INFO: Mesh class has been initialized! Elapsed time: 0m 0sec\n"
     ]
    },
    {
     "name": "stderr",
     "output_type": "stream",
     "text": [
      "INFO:Global:Mesh class has been initialized! Elapsed time: 0m 0sec\n"
     ]
    },
    {
     "name": "stdout",
     "output_type": "stream",
     "text": [
      "Mesh operations assigned successfully.\n",
      "PyAEDT INFO: Boundary CoilTerminal Tx_in has been created.\n"
     ]
    },
    {
     "name": "stderr",
     "output_type": "stream",
     "text": [
      "INFO:Global:Boundary CoilTerminal Tx_in has been created.\n"
     ]
    },
    {
     "name": "stdout",
     "output_type": "stream",
     "text": [
      "PyAEDT INFO: Boundary CoilTerminal Tx_out has been created.\n"
     ]
    },
    {
     "name": "stderr",
     "output_type": "stream",
     "text": [
      "INFO:Global:Boundary CoilTerminal Tx_out has been created.\n"
     ]
    },
    {
     "name": "stdout",
     "output_type": "stream",
     "text": [
      "PyAEDT INFO: Boundary CoilTerminal Rx1_in has been created.\n"
     ]
    },
    {
     "name": "stderr",
     "output_type": "stream",
     "text": [
      "INFO:Global:Boundary CoilTerminal Rx1_in has been created.\n"
     ]
    },
    {
     "name": "stdout",
     "output_type": "stream",
     "text": [
      "PyAEDT INFO: Boundary CoilTerminal Rx1_out has been created.\n"
     ]
    },
    {
     "name": "stderr",
     "output_type": "stream",
     "text": [
      "INFO:Global:Boundary CoilTerminal Rx1_out has been created.\n"
     ]
    },
    {
     "name": "stdout",
     "output_type": "stream",
     "text": [
      "PyAEDT INFO: Boundary CoilTerminal Rx2_in has been created.\n"
     ]
    },
    {
     "name": "stderr",
     "output_type": "stream",
     "text": [
      "INFO:Global:Boundary CoilTerminal Rx2_in has been created.\n"
     ]
    },
    {
     "name": "stdout",
     "output_type": "stream",
     "text": [
      "PyAEDT INFO: Boundary CoilTerminal Rx2_out has been created.\n"
     ]
    },
    {
     "name": "stderr",
     "output_type": "stream",
     "text": [
      "INFO:Global:Boundary CoilTerminal Rx2_out has been created.\n"
     ]
    },
    {
     "name": "stdout",
     "output_type": "stream",
     "text": [
      "PyAEDT INFO: Boundary Winding Tx_Winding has been created.\n"
     ]
    },
    {
     "name": "stderr",
     "output_type": "stream",
     "text": [
      "INFO:Global:Boundary Winding Tx_Winding has been created.\n"
     ]
    },
    {
     "name": "stdout",
     "output_type": "stream",
     "text": [
      "PyAEDT INFO: Boundary Winding Rx1_Winding has been created.\n"
     ]
    },
    {
     "name": "stderr",
     "output_type": "stream",
     "text": [
      "INFO:Global:Boundary Winding Rx1_Winding has been created.\n"
     ]
    },
    {
     "name": "stdout",
     "output_type": "stream",
     "text": [
      "PyAEDT INFO: Boundary Winding Rx2_Winding has been created.\n"
     ]
    },
    {
     "name": "stderr",
     "output_type": "stream",
     "text": [
      "INFO:Global:Boundary Winding Rx2_Winding has been created.\n"
     ]
    },
    {
     "name": "stdout",
     "output_type": "stream",
     "text": [
      "PyAEDT INFO: Infinite is the only return path option in EddyCurrent.\n"
     ]
    },
    {
     "name": "stderr",
     "output_type": "stream",
     "text": [
      "INFO:Global:Infinite is the only return path option in EddyCurrent.\n"
     ]
    },
    {
     "name": "stdout",
     "output_type": "stream",
     "text": [
      "PyAEDT INFO: Boundary Matrix Matrix has been created.\n"
     ]
    },
    {
     "name": "stderr",
     "output_type": "stream",
     "text": [
      "INFO:Global:Boundary Matrix Matrix has been created.\n"
     ]
    },
    {
     "name": "stdout",
     "output_type": "stream",
     "text": [
      "Excitations assigned successfully.\n",
      "Maxwell analysis started...\n",
      "PyAEDT INFO: Key Desktop/ActiveDSOConfigurations/Maxwell 3D correctly changed.\n"
     ]
    },
    {
     "name": "stderr",
     "output_type": "stream",
     "text": [
      "INFO:Global:Key Desktop/ActiveDSOConfigurations/Maxwell 3D correctly changed.\n"
     ]
    },
    {
     "name": "stdout",
     "output_type": "stream",
     "text": [
      "PyAEDT INFO: Solving all design setups.\n"
     ]
    },
    {
     "name": "stderr",
     "output_type": "stream",
     "text": [
      "INFO:Global:Solving all design setups.\n"
     ]
    },
    {
     "name": "stdout",
     "output_type": "stream",
     "text": [
      "PyAEDT INFO: Key Desktop/ActiveDSOConfigurations/Maxwell 3D correctly changed.\n"
     ]
    },
    {
     "name": "stderr",
     "output_type": "stream",
     "text": [
      "INFO:Global:Key Desktop/ActiveDSOConfigurations/Maxwell 3D correctly changed.\n"
     ]
    },
    {
     "name": "stdout",
     "output_type": "stream",
     "text": [
      "PyAEDT INFO: Design setup None solved correctly in 0.0h 2.0m 28.0s\n"
     ]
    },
    {
     "name": "stderr",
     "output_type": "stream",
     "text": [
      "INFO:Global:Design setup None solved correctly in 0.0h 2.0m 28.0s\n",
      "error : simulation2\n",
      "input :    N1  N2  N1_layer  N2_layer  frequency   per     w1  l1_top  l1_top_ratio  l1_side_ratio  l1_center  l1_side         l2  l2_gap     h1    h1_gap    h2_gap  N1_height_ratio  N1_fill_factor  N1_coil_diameter  N1_coil_zgap  N2_height_ratio  N2_fill_factor  N2_coil_diameter  N2_coil_zgap  N1_space_w  N1_space_l  N2_space_w  N2_space_l  N1_layer_gap  N2_layer_gap  N1_offset_ratio  N2_offset_ratio  N1_offset  N2_offset  cold_plate_x  cold_plate_y  cold_plate_z1  cold_plate_z2  mold_thick  thermal_conductivity  winding_thermal_ratio  wind_speed\n",
      "0   7   7         1         1         33  6234  180.9  36.216          0.72           0.93      100.6   46.779  98.220044     9.6  282.6  17.26686  10.41381             0.74            0.74          19.34397      7.767463             0.89            0.87         13.676074      2.335487        31.0        16.1         6.4        18.5           6.6           8.6             0.53             0.66   19.47114    5.12919           0.0           0.0           40.9           0.07        21.0                  0.75                   0.41         9.7\n",
      "Simulation.get_simulation_results() got an unexpected keyword argument 'design'\n",
      "Traceback (most recent call last):\n",
      "  File \"C:\\Users\\NEC_5950X1\\AppData\\Local\\Temp\\ipykernel_38184\\1917274543.py\", line 41, in <module>\n",
      "    simulation_runner.get_simulation_results(design=simulation_runner.maxwell_design, input=True)\n",
      "TypeError: Simulation.get_simulation_results() got an unexpected keyword argument 'design'\n",
      "\n",
      "ERROR:root:error : simulation2\n",
      "input :    N1  N2  N1_layer  N2_layer  frequency   per     w1  l1_top  l1_top_ratio  l1_side_ratio  l1_center  l1_side         l2  l2_gap     h1    h1_gap    h2_gap  N1_height_ratio  N1_fill_factor  N1_coil_diameter  N1_coil_zgap  N2_height_ratio  N2_fill_factor  N2_coil_diameter  N2_coil_zgap  N1_space_w  N1_space_l  N2_space_w  N2_space_l  N1_layer_gap  N2_layer_gap  N1_offset_ratio  N2_offset_ratio  N1_offset  N2_offset  cold_plate_x  cold_plate_y  cold_plate_z1  cold_plate_z2  mold_thick  thermal_conductivity  winding_thermal_ratio  wind_speed\n",
      "0   7   7         1         1         33  6234  180.9  36.216          0.72           0.93      100.6   46.779  98.220044     9.6  282.6  17.26686  10.41381             0.74            0.74          19.34397      7.767463             0.89            0.87         13.676074      2.335487        31.0        16.1         6.4        18.5           6.6           8.6             0.53             0.66   19.47114    5.12919           0.0           0.0           40.9           0.07        21.0                  0.75                   0.41         9.7\n",
      "Simulation.get_simulation_results() got an unexpected keyword argument 'design'\n",
      "Traceback (most recent call last):\n",
      "  File \"C:\\Users\\NEC_5950X1\\AppData\\Local\\Temp\\ipykernel_38184\\1917274543.py\", line 41, in <module>\n",
      "    simulation_runner.get_simulation_results(design=simulation_runner.maxwell_design, input=True)\n",
      "TypeError: Simulation.get_simulation_results() got an unexpected keyword argument 'design'\n",
      "Traceback (most recent call last):\n",
      "  File \"C:\\Users\\NEC_5950X1\\AppData\\Local\\Temp\\ipykernel_38184\\1917274543.py\", line 41, in <module>\n",
      "    simulation_runner.get_simulation_results(design=simulation_runner.maxwell_design, input=True)\n",
      "TypeError: Simulation.get_simulation_results() got an unexpected keyword argument 'design'\n"
     ]
    },
    {
     "name": "stdout",
     "output_type": "stream",
     "text": [
      "Maxwell analysis finished. Duration: 148.24 seconds.\n",
      "simulation2 : 0 simulation Failed\n",
      "PyAEDT INFO: Desktop has been released and closed.\n"
     ]
    },
    {
     "name": "stderr",
     "output_type": "stream",
     "text": [
      "INFO:Global:Desktop has been released and closed.\n"
     ]
    },
    {
     "name": "stdout",
     "output_type": "stream",
     "text": [
      "==========simulation4==========\n",
      "PyAEDT INFO: Python version 3.11.11 | packaged by Anaconda, Inc. | (main, Dec 11 2024, 16:34:19) [MSC v.1929 64 bit (AMD64)].\n"
     ]
    },
    {
     "name": "stderr",
     "output_type": "stream",
     "text": [
      "INFO:Global:Python version 3.11.11 | packaged by Anaconda, Inc. | (main, Dec 11 2024, 16:34:19) [MSC v.1929 64 bit (AMD64)].\n"
     ]
    },
    {
     "name": "stdout",
     "output_type": "stream",
     "text": [
      "PyAEDT INFO: PyAEDT version 0.15.0.\n"
     ]
    },
    {
     "name": "stderr",
     "output_type": "stream",
     "text": [
      "INFO:Global:PyAEDT version 0.15.0.\n"
     ]
    },
    {
     "name": "stdout",
     "output_type": "stream",
     "text": [
      "PyAEDT INFO: Initializing new Desktop session.\n"
     ]
    },
    {
     "name": "stderr",
     "output_type": "stream",
     "text": [
      "INFO:Global:Initializing new Desktop session.\n"
     ]
    },
    {
     "name": "stdout",
     "output_type": "stream",
     "text": [
      "PyAEDT INFO: Log on console is enabled.\n"
     ]
    },
    {
     "name": "stderr",
     "output_type": "stream",
     "text": [
      "INFO:Global:Log on console is enabled.\n"
     ]
    },
    {
     "name": "stdout",
     "output_type": "stream",
     "text": [
      "PyAEDT INFO: Log on file C:\\Users\\NEC_59~1\\AppData\\Local\\Temp\\pyaedt_NEC_5950X1_cd0c6872-a7e8-4208-abc1-7934dec67637.log is enabled.\n"
     ]
    },
    {
     "name": "stderr",
     "output_type": "stream",
     "text": [
      "INFO:Global:Log on file C:\\Users\\NEC_59~1\\AppData\\Local\\Temp\\pyaedt_NEC_5950X1_cd0c6872-a7e8-4208-abc1-7934dec67637.log is enabled.\n"
     ]
    },
    {
     "name": "stdout",
     "output_type": "stream",
     "text": [
      "PyAEDT INFO: Log on AEDT is enabled.\n"
     ]
    },
    {
     "name": "stderr",
     "output_type": "stream",
     "text": [
      "INFO:Global:Log on AEDT is enabled.\n"
     ]
    },
    {
     "name": "stdout",
     "output_type": "stream",
     "text": [
      "PyAEDT INFO: Debug logger is disabled. PyAEDT methods will not be logged.\n"
     ]
    },
    {
     "name": "stderr",
     "output_type": "stream",
     "text": [
      "INFO:Global:Debug logger is disabled. PyAEDT methods will not be logged.\n"
     ]
    },
    {
     "name": "stdout",
     "output_type": "stream",
     "text": [
      "PyAEDT INFO: Launching PyAEDT with gRPC plugin.\n"
     ]
    },
    {
     "name": "stderr",
     "output_type": "stream",
     "text": [
      "INFO:Global:Launching PyAEDT with gRPC plugin.\n"
     ]
    },
    {
     "name": "stdout",
     "output_type": "stream",
     "text": [
      "PyAEDT INFO: New AEDT session is starting on gRPC port 53235.\n"
     ]
    },
    {
     "name": "stderr",
     "output_type": "stream",
     "text": [
      "INFO:Global:New AEDT session is starting on gRPC port 53235.\n"
     ]
    },
    {
     "name": "stdout",
     "output_type": "stream",
     "text": [
      "PyAEDT ERROR: Error getting status: Cannot connect to license server system. (-15,10:10061 \"WinSock: Connection refused\")\n"
     ]
    },
    {
     "name": "stderr",
     "output_type": "stream",
     "text": [
      "ERROR:Global:Error getting status: Cannot connect to license server system. (-15,10:10061 \"WinSock: Connection refused\")\n"
     ]
    },
    {
     "name": "stdout",
     "output_type": "stream",
     "text": [
      "PyAEDT WARNING: Electronics Desktop license not found on the default license server.\n"
     ]
    },
    {
     "name": "stderr",
     "output_type": "stream",
     "text": [
      "WARNING:Global:Electronics Desktop license not found on the default license server.\n"
     ]
    },
    {
     "name": "stdout",
     "output_type": "stream",
     "text": [
      "PyAEDT INFO: Electronics Desktop started on gRPC port: 53235 after 6.107409954071045 seconds.\n"
     ]
    },
    {
     "name": "stderr",
     "output_type": "stream",
     "text": [
      "INFO:Global:Electronics Desktop started on gRPC port: 53235 after 6.107409954071045 seconds.\n"
     ]
    },
    {
     "name": "stdout",
     "output_type": "stream",
     "text": [
      "PyAEDT INFO: AEDT installation Path C:\\Program Files\\AnsysEM\\v242\\Win64\n"
     ]
    },
    {
     "name": "stderr",
     "output_type": "stream",
     "text": [
      "INFO:Global:AEDT installation Path C:\\Program Files\\AnsysEM\\v242\\Win64\n"
     ]
    },
    {
     "name": "stdout",
     "output_type": "stream",
     "text": [
      "PyAEDT INFO: Ansoft.ElectronicsDesktop.2024.2 version started with process ID 38808.\n"
     ]
    },
    {
     "name": "stderr",
     "output_type": "stream",
     "text": [
      "INFO:Global:Ansoft.ElectronicsDesktop.2024.2 version started with process ID 38808.\n"
     ]
    },
    {
     "name": "stdout",
     "output_type": "stream",
     "text": [
      "PyAEDT INFO: Python version 3.11.11 | packaged by Anaconda, Inc. | (main, Dec 11 2024, 16:34:19) [MSC v.1929 64 bit (AMD64)].\n"
     ]
    },
    {
     "name": "stderr",
     "output_type": "stream",
     "text": [
      "INFO:Global:Python version 3.11.11 | packaged by Anaconda, Inc. | (main, Dec 11 2024, 16:34:19) [MSC v.1929 64 bit (AMD64)].\n"
     ]
    },
    {
     "name": "stdout",
     "output_type": "stream",
     "text": [
      "PyAEDT INFO: PyAEDT version 0.15.0.\n"
     ]
    },
    {
     "name": "stderr",
     "output_type": "stream",
     "text": [
      "INFO:Global:PyAEDT version 0.15.0.\n"
     ]
    },
    {
     "name": "stdout",
     "output_type": "stream",
     "text": [
      "PyAEDT INFO: Returning found Desktop session with PID 38808!\n"
     ]
    },
    {
     "name": "stderr",
     "output_type": "stream",
     "text": [
      "INFO:Global:Returning found Desktop session with PID 38808!\n"
     ]
    },
    {
     "name": "stdout",
     "output_type": "stream",
     "text": [
      "PyAEDT INFO: No project is defined. Project Project_DVG exists and has been read.\n"
     ]
    },
    {
     "name": "stderr",
     "output_type": "stream",
     "text": [
      "INFO:Global:No project is defined. Project Project_DVG exists and has been read.\n"
     ]
    },
    {
     "name": "stdout",
     "output_type": "stream",
     "text": [
      "PyAEDT INFO: Added design 'SST_MFT' of type Maxwell 3D.\n"
     ]
    },
    {
     "name": "stderr",
     "output_type": "stream",
     "text": [
      "INFO:Global:Added design 'SST_MFT' of type Maxwell 3D.\n"
     ]
    },
    {
     "name": "stdout",
     "output_type": "stream",
     "text": [
      "PyAEDT INFO: Aedt Objects correctly read\n"
     ]
    },
    {
     "name": "stderr",
     "output_type": "stream",
     "text": [
      "INFO:Global:Aedt Objects correctly read\n"
     ]
    },
    {
     "name": "stdout",
     "output_type": "stream",
     "text": [
      "input_parameter : {'N1': 3, 'N2': 3, 'N1_layer': 1, 'N2_layer': 1, 'frequency': 40, 'per': 4510, 'w1': np.float64(205.2), 'l1_top': np.float64(22.875), 'l1_top_ratio': np.float64(0.61), 'l1_side_ratio': np.float64(0.88), 'l1_center': np.float64(75.0), 'l1_side': np.float64(33.0), 'l2': np.float64(97.96046250000002), 'l2_gap': np.float64(17.2), 'h1': np.float64(167.4), 'h1_gap': np.float64(14.463360000000002), 'h2_gap': np.float64(11.299500000000005), 'N1_height_ratio': np.float64(0.82), 'N1_fill_factor': np.float64(0.8), 'N1_coil_diameter': np.float64(27.4536), 'N1_coil_zgap': np.float64(9.151199999999998), 'N2_height_ratio': np.float64(0.85), 'N2_fill_factor': np.float64(0.81), 'N2_coil_diameter': np.float64(14.4068625), 'N2_coil_zgap': np.float64(4.505849999999998), 'N1_space_w': np.float64(21.0), 'N1_space_l': np.float64(13.3), 'N2_space_w': np.float64(8.7), 'N2_space_l': np.float64(11.7), 'N1_layer_gap': np.float64(2.3), 'N2_layer_gap': np.float64(8.5), 'N1_offset_ratio': np.float64(-0.04), 'N2_offset_ratio': np.float64(-0.2), 'N1_offset': np.float64(-0.6026400000000001), 'N2_offset': np.float64(-1.2555000000000007), 'cold_plate_x': np.float64(0.0), 'cold_plate_y': np.float64(0.0), 'cold_plate_z1': np.float64(40.9), 'cold_plate_z2': np.float64(0.12), 'mold_thick': np.float64(13.9), 'thermal_conductivity': np.float64(1.12), 'winding_thermal_ratio': np.float64(0.84), 'wind_speed': np.float64(5.1)}\n",
      "input_parameter : 3.0,3.0,1.0,1.0,40.0,4510.0,205.2,22.875,0.61,0.88,75.0,33.0,97.96046250000002,17.2,167.4,14.463360000000002,11.299500000000005,0.82,0.8,27.4536,9.151199999999998,0.85,0.81,14.4068625,4.505849999999998,21.0,13.3,8.7,11.7,2.3,8.5,-0.04,-0.2,-0.6026400000000001,-1.2555000000000007,0.0,0.0,40.9,0.12,13.9,1.12,0.84,5.1\n",
      "Ansys 디자인 변수가 설정되었습니다.\n",
      "PyAEDT INFO: Materials class has been initialized! Elapsed time: 0m 0sec\n"
     ]
    },
    {
     "name": "stderr",
     "output_type": "stream",
     "text": [
      "INFO:Global:Materials class has been initialized! Elapsed time: 0m 0sec\n"
     ]
    },
    {
     "name": "stdout",
     "output_type": "stream",
     "text": [
      "PyAEDT INFO: Modeler class has been initialized! Elapsed time: 0m 0sec\n"
     ]
    },
    {
     "name": "stderr",
     "output_type": "stream",
     "text": [
      "INFO:Global:Modeler class has been initialized! Elapsed time: 0m 0sec\n"
     ]
    },
    {
     "name": "stdout",
     "output_type": "stream",
     "text": [
      "PyAEDT INFO: Parsing design objects. This operation can take time\n"
     ]
    },
    {
     "name": "stderr",
     "output_type": "stream",
     "text": [
      "INFO:Global:Parsing design objects. This operation can take time\n"
     ]
    },
    {
     "name": "stdout",
     "output_type": "stream",
     "text": [
      "PyAEDT INFO: Refreshing bodies from Object Info\n"
     ]
    },
    {
     "name": "stderr",
     "output_type": "stream",
     "text": [
      "INFO:Global:Refreshing bodies from Object Info\n"
     ]
    },
    {
     "name": "stdout",
     "output_type": "stream",
     "text": [
      "PyAEDT INFO: Bodies Info Refreshed Elapsed time: 0m 0sec\n"
     ]
    },
    {
     "name": "stderr",
     "output_type": "stream",
     "text": [
      "INFO:Global:Bodies Info Refreshed Elapsed time: 0m 0sec\n"
     ]
    },
    {
     "name": "stdout",
     "output_type": "stream",
     "text": [
      "PyAEDT INFO: 3D Modeler objects parsed. Elapsed time: 0m 0sec\n"
     ]
    },
    {
     "name": "stderr",
     "output_type": "stream",
     "text": [
      "INFO:Global:3D Modeler objects parsed. Elapsed time: 0m 0sec\n"
     ]
    },
    {
     "name": "stdout",
     "output_type": "stream",
     "text": [
      "Core created successfully.\n",
      "Winding 'winding1' created successfully.\n",
      "Winding 'winding2' created successfully.\n",
      "Winding 'winding3' created successfully.\n",
      "PyAEDT INFO: Parsing design objects. This operation can take time\n"
     ]
    },
    {
     "name": "stderr",
     "output_type": "stream",
     "text": [
      "INFO:Global:Parsing design objects. This operation can take time\n"
     ]
    },
    {
     "name": "stdout",
     "output_type": "stream",
     "text": [
      "PyAEDT INFO: Refreshing bodies from Object Info\n"
     ]
    },
    {
     "name": "stderr",
     "output_type": "stream",
     "text": [
      "INFO:Global:Refreshing bodies from Object Info\n"
     ]
    },
    {
     "name": "stdout",
     "output_type": "stream",
     "text": [
      "PyAEDT INFO: Bodies Info Refreshed Elapsed time: 0m 0sec\n"
     ]
    },
    {
     "name": "stderr",
     "output_type": "stream",
     "text": [
      "INFO:Global:Bodies Info Refreshed Elapsed time: 0m 0sec\n"
     ]
    },
    {
     "name": "stdout",
     "output_type": "stream",
     "text": [
      "PyAEDT INFO: 3D Modeler objects parsed. Elapsed time: 0m 0sec\n"
     ]
    },
    {
     "name": "stderr",
     "output_type": "stream",
     "text": [
      "INFO:Global:3D Modeler objects parsed. Elapsed time: 0m 0sec\n"
     ]
    },
    {
     "name": "stdout",
     "output_type": "stream",
     "text": [
      "Top cold plate created successfully.\n",
      "PyAEDT INFO: Parsing design objects. This operation can take time\n"
     ]
    },
    {
     "name": "stderr",
     "output_type": "stream",
     "text": [
      "INFO:Global:Parsing design objects. This operation can take time\n"
     ]
    },
    {
     "name": "stdout",
     "output_type": "stream",
     "text": [
      "PyAEDT INFO: Refreshing bodies from Object Info\n"
     ]
    },
    {
     "name": "stderr",
     "output_type": "stream",
     "text": [
      "INFO:Global:Refreshing bodies from Object Info\n"
     ]
    },
    {
     "name": "stdout",
     "output_type": "stream",
     "text": [
      "PyAEDT INFO: Bodies Info Refreshed Elapsed time: 0m 0sec\n"
     ]
    },
    {
     "name": "stderr",
     "output_type": "stream",
     "text": [
      "INFO:Global:Bodies Info Refreshed Elapsed time: 0m 0sec\n"
     ]
    },
    {
     "name": "stdout",
     "output_type": "stream",
     "text": [
      "PyAEDT INFO: 3D Modeler objects parsed. Elapsed time: 0m 0sec\n"
     ]
    },
    {
     "name": "stderr",
     "output_type": "stream",
     "text": [
      "INFO:Global:3D Modeler objects parsed. Elapsed time: 0m 0sec\n"
     ]
    },
    {
     "name": "stdout",
     "output_type": "stream",
     "text": [
      "Bottom cold plate created successfully.\n",
      "PyAEDT INFO: Boundary Radiation Radiation has been created.\n"
     ]
    },
    {
     "name": "stderr",
     "output_type": "stream",
     "text": [
      "INFO:Global:Boundary Radiation Radiation has been created.\n"
     ]
    },
    {
     "name": "stdout",
     "output_type": "stream",
     "text": [
      "Air region and radiation boundary created successfully.\n",
      "PyAEDT INFO: Mesh class has been initialized! Elapsed time: 0m 0sec\n"
     ]
    },
    {
     "name": "stderr",
     "output_type": "stream",
     "text": [
      "INFO:Global:Mesh class has been initialized! Elapsed time: 0m 0sec\n"
     ]
    },
    {
     "name": "stdout",
     "output_type": "stream",
     "text": [
      "PyAEDT INFO: Mesh class has been initialized! Elapsed time: 0m 0sec\n"
     ]
    },
    {
     "name": "stderr",
     "output_type": "stream",
     "text": [
      "INFO:Global:Mesh class has been initialized! Elapsed time: 0m 0sec\n"
     ]
    },
    {
     "name": "stdout",
     "output_type": "stream",
     "text": [
      "Mesh operations assigned successfully.\n",
      "PyAEDT INFO: Boundary CoilTerminal Tx_in has been created.\n"
     ]
    },
    {
     "name": "stderr",
     "output_type": "stream",
     "text": [
      "INFO:Global:Boundary CoilTerminal Tx_in has been created.\n"
     ]
    },
    {
     "name": "stdout",
     "output_type": "stream",
     "text": [
      "PyAEDT INFO: Boundary CoilTerminal Tx_out has been created.\n"
     ]
    },
    {
     "name": "stderr",
     "output_type": "stream",
     "text": [
      "INFO:Global:Boundary CoilTerminal Tx_out has been created.\n"
     ]
    },
    {
     "name": "stdout",
     "output_type": "stream",
     "text": [
      "PyAEDT INFO: Boundary CoilTerminal Rx1_in has been created.\n"
     ]
    },
    {
     "name": "stderr",
     "output_type": "stream",
     "text": [
      "INFO:Global:Boundary CoilTerminal Rx1_in has been created.\n"
     ]
    },
    {
     "name": "stdout",
     "output_type": "stream",
     "text": [
      "PyAEDT INFO: Boundary CoilTerminal Rx1_out has been created.\n"
     ]
    },
    {
     "name": "stderr",
     "output_type": "stream",
     "text": [
      "INFO:Global:Boundary CoilTerminal Rx1_out has been created.\n"
     ]
    },
    {
     "name": "stdout",
     "output_type": "stream",
     "text": [
      "PyAEDT INFO: Boundary CoilTerminal Rx2_in has been created.\n"
     ]
    },
    {
     "name": "stderr",
     "output_type": "stream",
     "text": [
      "INFO:Global:Boundary CoilTerminal Rx2_in has been created.\n"
     ]
    },
    {
     "name": "stdout",
     "output_type": "stream",
     "text": [
      "PyAEDT INFO: Boundary CoilTerminal Rx2_out has been created.\n"
     ]
    },
    {
     "name": "stderr",
     "output_type": "stream",
     "text": [
      "INFO:Global:Boundary CoilTerminal Rx2_out has been created.\n"
     ]
    },
    {
     "name": "stdout",
     "output_type": "stream",
     "text": [
      "PyAEDT INFO: Boundary Winding Tx_Winding has been created.\n"
     ]
    },
    {
     "name": "stderr",
     "output_type": "stream",
     "text": [
      "INFO:Global:Boundary Winding Tx_Winding has been created.\n"
     ]
    },
    {
     "name": "stdout",
     "output_type": "stream",
     "text": [
      "PyAEDT INFO: Boundary Winding Rx1_Winding has been created.\n"
     ]
    },
    {
     "name": "stderr",
     "output_type": "stream",
     "text": [
      "INFO:Global:Boundary Winding Rx1_Winding has been created.\n"
     ]
    },
    {
     "name": "stdout",
     "output_type": "stream",
     "text": [
      "PyAEDT INFO: Boundary Winding Rx2_Winding has been created.\n"
     ]
    },
    {
     "name": "stderr",
     "output_type": "stream",
     "text": [
      "INFO:Global:Boundary Winding Rx2_Winding has been created.\n"
     ]
    },
    {
     "name": "stdout",
     "output_type": "stream",
     "text": [
      "PyAEDT INFO: Infinite is the only return path option in EddyCurrent.\n"
     ]
    },
    {
     "name": "stderr",
     "output_type": "stream",
     "text": [
      "INFO:Global:Infinite is the only return path option in EddyCurrent.\n"
     ]
    },
    {
     "name": "stdout",
     "output_type": "stream",
     "text": [
      "PyAEDT INFO: Boundary Matrix Matrix has been created.\n"
     ]
    },
    {
     "name": "stderr",
     "output_type": "stream",
     "text": [
      "INFO:Global:Boundary Matrix Matrix has been created.\n"
     ]
    },
    {
     "name": "stdout",
     "output_type": "stream",
     "text": [
      "Excitations assigned successfully.\n",
      "Maxwell analysis started...\n",
      "PyAEDT INFO: Key Desktop/ActiveDSOConfigurations/Maxwell 3D correctly changed.\n"
     ]
    },
    {
     "name": "stderr",
     "output_type": "stream",
     "text": [
      "INFO:Global:Key Desktop/ActiveDSOConfigurations/Maxwell 3D correctly changed.\n"
     ]
    },
    {
     "name": "stdout",
     "output_type": "stream",
     "text": [
      "PyAEDT INFO: Solving all design setups.\n"
     ]
    },
    {
     "name": "stderr",
     "output_type": "stream",
     "text": [
      "INFO:Global:Solving all design setups.\n"
     ]
    },
    {
     "name": "stdout",
     "output_type": "stream",
     "text": [
      "PyAEDT INFO: Key Desktop/ActiveDSOConfigurations/Maxwell 3D correctly changed.\n"
     ]
    },
    {
     "name": "stderr",
     "output_type": "stream",
     "text": [
      "INFO:Global:Key Desktop/ActiveDSOConfigurations/Maxwell 3D correctly changed.\n"
     ]
    },
    {
     "name": "stdout",
     "output_type": "stream",
     "text": [
      "PyAEDT INFO: Design setup None solved correctly in 0.0h 1.0m 31.0s\n"
     ]
    },
    {
     "name": "stderr",
     "output_type": "stream",
     "text": [
      "INFO:Global:Design setup None solved correctly in 0.0h 1.0m 31.0s\n",
      "error : simulation3\n",
      "input :    N1  N2  N1_layer  N2_layer  frequency   per     w1  l1_top  l1_top_ratio  l1_side_ratio  l1_center  l1_side         l2  l2_gap     h1    h1_gap   h2_gap  N1_height_ratio  N1_fill_factor  N1_coil_diameter  N1_coil_zgap  N2_height_ratio  N2_fill_factor  N2_coil_diameter  N2_coil_zgap  N1_space_w  N1_space_l  N2_space_w  N2_space_l  N1_layer_gap  N2_layer_gap  N1_offset_ratio  N2_offset_ratio  N1_offset  N2_offset  cold_plate_x  cold_plate_y  cold_plate_z1  cold_plate_z2  mold_thick  thermal_conductivity  winding_thermal_ratio  wind_speed\n",
      "0   3   3         1         1         40  4510  205.2  22.875          0.61           0.88       75.0     33.0  97.960463    17.2  167.4  14.46336  11.2995             0.82             0.8           27.4536        9.1512             0.85            0.81         14.406863       4.50585        21.0        13.3         8.7        11.7           2.3           8.5            -0.04             -0.2   -0.60264    -1.2555           0.0           0.0           40.9           0.12        13.9                  1.12                   0.84         5.1\n",
      "Simulation.get_simulation_results() got an unexpected keyword argument 'design'\n",
      "Traceback (most recent call last):\n",
      "  File \"C:\\Users\\NEC_5950X1\\AppData\\Local\\Temp\\ipykernel_38184\\1917274543.py\", line 41, in <module>\n",
      "    simulation_runner.get_simulation_results(design=simulation_runner.maxwell_design, input=True)\n",
      "TypeError: Simulation.get_simulation_results() got an unexpected keyword argument 'design'\n",
      "\n",
      "ERROR:root:error : simulation3\n",
      "input :    N1  N2  N1_layer  N2_layer  frequency   per     w1  l1_top  l1_top_ratio  l1_side_ratio  l1_center  l1_side         l2  l2_gap     h1    h1_gap   h2_gap  N1_height_ratio  N1_fill_factor  N1_coil_diameter  N1_coil_zgap  N2_height_ratio  N2_fill_factor  N2_coil_diameter  N2_coil_zgap  N1_space_w  N1_space_l  N2_space_w  N2_space_l  N1_layer_gap  N2_layer_gap  N1_offset_ratio  N2_offset_ratio  N1_offset  N2_offset  cold_plate_x  cold_plate_y  cold_plate_z1  cold_plate_z2  mold_thick  thermal_conductivity  winding_thermal_ratio  wind_speed\n",
      "0   3   3         1         1         40  4510  205.2  22.875          0.61           0.88       75.0     33.0  97.960463    17.2  167.4  14.46336  11.2995             0.82             0.8           27.4536        9.1512             0.85            0.81         14.406863       4.50585        21.0        13.3         8.7        11.7           2.3           8.5            -0.04             -0.2   -0.60264    -1.2555           0.0           0.0           40.9           0.12        13.9                  1.12                   0.84         5.1\n",
      "Simulation.get_simulation_results() got an unexpected keyword argument 'design'\n",
      "Traceback (most recent call last):\n",
      "  File \"C:\\Users\\NEC_5950X1\\AppData\\Local\\Temp\\ipykernel_38184\\1917274543.py\", line 41, in <module>\n",
      "    simulation_runner.get_simulation_results(design=simulation_runner.maxwell_design, input=True)\n",
      "TypeError: Simulation.get_simulation_results() got an unexpected keyword argument 'design'\n",
      "Traceback (most recent call last):\n",
      "  File \"C:\\Users\\NEC_5950X1\\AppData\\Local\\Temp\\ipykernel_38184\\1917274543.py\", line 41, in <module>\n",
      "    simulation_runner.get_simulation_results(design=simulation_runner.maxwell_design, input=True)\n",
      "TypeError: Simulation.get_simulation_results() got an unexpected keyword argument 'design'\n"
     ]
    },
    {
     "name": "stdout",
     "output_type": "stream",
     "text": [
      "Maxwell analysis finished. Duration: 91.35 seconds.\n",
      "simulation3 : 1 simulation Failed\n",
      "PyAEDT INFO: Desktop has been released and closed.\n"
     ]
    },
    {
     "name": "stderr",
     "output_type": "stream",
     "text": [
      "INFO:Global:Desktop has been released and closed.\n"
     ]
    },
    {
     "name": "stdout",
     "output_type": "stream",
     "text": [
      "==========simulation5==========\n",
      "PyAEDT INFO: Python version 3.11.11 | packaged by Anaconda, Inc. | (main, Dec 11 2024, 16:34:19) [MSC v.1929 64 bit (AMD64)].\n"
     ]
    },
    {
     "name": "stderr",
     "output_type": "stream",
     "text": [
      "INFO:Global:Python version 3.11.11 | packaged by Anaconda, Inc. | (main, Dec 11 2024, 16:34:19) [MSC v.1929 64 bit (AMD64)].\n"
     ]
    },
    {
     "name": "stdout",
     "output_type": "stream",
     "text": [
      "PyAEDT INFO: PyAEDT version 0.15.0.\n"
     ]
    },
    {
     "name": "stderr",
     "output_type": "stream",
     "text": [
      "INFO:Global:PyAEDT version 0.15.0.\n"
     ]
    },
    {
     "name": "stdout",
     "output_type": "stream",
     "text": [
      "PyAEDT INFO: Initializing new Desktop session.\n"
     ]
    },
    {
     "name": "stderr",
     "output_type": "stream",
     "text": [
      "INFO:Global:Initializing new Desktop session.\n"
     ]
    },
    {
     "name": "stdout",
     "output_type": "stream",
     "text": [
      "PyAEDT INFO: Log on console is enabled.\n"
     ]
    },
    {
     "name": "stderr",
     "output_type": "stream",
     "text": [
      "INFO:Global:Log on console is enabled.\n"
     ]
    },
    {
     "name": "stdout",
     "output_type": "stream",
     "text": [
      "PyAEDT INFO: Log on file C:\\Users\\NEC_59~1\\AppData\\Local\\Temp\\pyaedt_NEC_5950X1_cd0c6872-a7e8-4208-abc1-7934dec67637.log is enabled.\n"
     ]
    },
    {
     "name": "stderr",
     "output_type": "stream",
     "text": [
      "INFO:Global:Log on file C:\\Users\\NEC_59~1\\AppData\\Local\\Temp\\pyaedt_NEC_5950X1_cd0c6872-a7e8-4208-abc1-7934dec67637.log is enabled.\n"
     ]
    },
    {
     "name": "stdout",
     "output_type": "stream",
     "text": [
      "PyAEDT INFO: Log on AEDT is enabled.\n"
     ]
    },
    {
     "name": "stderr",
     "output_type": "stream",
     "text": [
      "INFO:Global:Log on AEDT is enabled.\n"
     ]
    },
    {
     "name": "stdout",
     "output_type": "stream",
     "text": [
      "PyAEDT INFO: Debug logger is disabled. PyAEDT methods will not be logged.\n"
     ]
    },
    {
     "name": "stderr",
     "output_type": "stream",
     "text": [
      "INFO:Global:Debug logger is disabled. PyAEDT methods will not be logged.\n"
     ]
    },
    {
     "name": "stdout",
     "output_type": "stream",
     "text": [
      "PyAEDT INFO: Launching PyAEDT with gRPC plugin.\n"
     ]
    },
    {
     "name": "stderr",
     "output_type": "stream",
     "text": [
      "INFO:Global:Launching PyAEDT with gRPC plugin.\n"
     ]
    },
    {
     "name": "stdout",
     "output_type": "stream",
     "text": [
      "PyAEDT INFO: New AEDT session is starting on gRPC port 53389.\n"
     ]
    },
    {
     "name": "stderr",
     "output_type": "stream",
     "text": [
      "INFO:Global:New AEDT session is starting on gRPC port 53389.\n"
     ]
    },
    {
     "name": "stdout",
     "output_type": "stream",
     "text": [
      "PyAEDT ERROR: Error getting status: Cannot connect to license server system. (-15,10:10061 \"WinSock: Connection refused\")\n"
     ]
    },
    {
     "name": "stderr",
     "output_type": "stream",
     "text": [
      "ERROR:Global:Error getting status: Cannot connect to license server system. (-15,10:10061 \"WinSock: Connection refused\")\n"
     ]
    },
    {
     "name": "stdout",
     "output_type": "stream",
     "text": [
      "PyAEDT WARNING: Electronics Desktop license not found on the default license server.\n"
     ]
    },
    {
     "name": "stderr",
     "output_type": "stream",
     "text": [
      "WARNING:Global:Electronics Desktop license not found on the default license server.\n"
     ]
    },
    {
     "name": "stdout",
     "output_type": "stream",
     "text": [
      "PyAEDT INFO: Electronics Desktop started on gRPC port: 53389 after 6.12202525138855 seconds.\n"
     ]
    },
    {
     "name": "stderr",
     "output_type": "stream",
     "text": [
      "INFO:Global:Electronics Desktop started on gRPC port: 53389 after 6.12202525138855 seconds.\n"
     ]
    },
    {
     "name": "stdout",
     "output_type": "stream",
     "text": [
      "PyAEDT INFO: AEDT installation Path C:\\Program Files\\AnsysEM\\v242\\Win64\n"
     ]
    },
    {
     "name": "stderr",
     "output_type": "stream",
     "text": [
      "INFO:Global:AEDT installation Path C:\\Program Files\\AnsysEM\\v242\\Win64\n"
     ]
    },
    {
     "name": "stdout",
     "output_type": "stream",
     "text": [
      "PyAEDT INFO: Ansoft.ElectronicsDesktop.2024.2 version started with process ID 35004.\n"
     ]
    },
    {
     "name": "stderr",
     "output_type": "stream",
     "text": [
      "INFO:Global:Ansoft.ElectronicsDesktop.2024.2 version started with process ID 35004.\n"
     ]
    },
    {
     "name": "stdout",
     "output_type": "stream",
     "text": [
      "PyAEDT INFO: Python version 3.11.11 | packaged by Anaconda, Inc. | (main, Dec 11 2024, 16:34:19) [MSC v.1929 64 bit (AMD64)].\n"
     ]
    },
    {
     "name": "stderr",
     "output_type": "stream",
     "text": [
      "INFO:Global:Python version 3.11.11 | packaged by Anaconda, Inc. | (main, Dec 11 2024, 16:34:19) [MSC v.1929 64 bit (AMD64)].\n"
     ]
    },
    {
     "name": "stdout",
     "output_type": "stream",
     "text": [
      "PyAEDT INFO: PyAEDT version 0.15.0.\n"
     ]
    },
    {
     "name": "stderr",
     "output_type": "stream",
     "text": [
      "INFO:Global:PyAEDT version 0.15.0.\n"
     ]
    },
    {
     "name": "stdout",
     "output_type": "stream",
     "text": [
      "PyAEDT INFO: Returning found Desktop session with PID 35004!\n"
     ]
    },
    {
     "name": "stderr",
     "output_type": "stream",
     "text": [
      "INFO:Global:Returning found Desktop session with PID 35004!\n"
     ]
    },
    {
     "name": "stdout",
     "output_type": "stream",
     "text": [
      "PyAEDT INFO: No project is defined. Project Project_024 exists and has been read.\n"
     ]
    }
   ],
   "source": [
    "test = False\n",
    "\n",
    "for i in range(5000):\n",
    "    try:\n",
    "        simulation_runner = Simulation()\n",
    "\n",
    "        if test == True :\n",
    "            simulation_runner.test = True\n",
    "        else :\n",
    "            simulation_runner.test = False\n",
    "\n",
    "        # 2. create_design 메서드를 호출하여 프로젝트와 디자인을 초기화합니다.\n",
    "        simulation_runner.create_design(\"SST_MFT\")\n",
    "\n",
    "        # 3. 이제 입력 매개변수를 생성할 수 있습니다.\n",
    "        input_parameters = simulation_runner.create_input_parameter()\n",
    "\n",
    "        # 4. 생성된 파라미터를 Simulation 객체와 Ansys 디자인에 설정합니다.\n",
    "        simulation_runner.set_variable(input_parameters)\n",
    "\n",
    "        # 5. 해석 설정 및 실행\n",
    "        simulation_runner.set_maxwell_analysis()\n",
    "\n",
    "        # 6. 모델을 생성합니다.\n",
    "        simulation_runner.create_core()\n",
    "\n",
    "        simulation_runner.create_face(simulation_runner.maxwell_design)\n",
    "        simulation_runner.create_windings()\n",
    "        simulation_runner.create_mold()\n",
    "        simulation_runner.create_cold_plate()\n",
    "        simulation_runner.create_air()\n",
    "\n",
    "        # 7. 메쉬 및 경계조건 설정\n",
    "        simulation_runner.assign_meshing()\n",
    "        simulation_runner.assign_excitations()\n",
    "\n",
    "        # 8. 해석 설정 및 실행\n",
    "        simulation_runner.analyze_maxwell(simulation_runner.maxwell_design)\n",
    "\n",
    "        # 9. 결과 리포팅\n",
    "        simulation_runner.get_simulation_results(design=simulation_runner.maxwell_design, input=True)\n",
    "\n",
    "        # 10. 두 번째 해석 실행\n",
    "        simulation_runner.second_simulation()\n",
    "\n",
    "        # 11. Icepak 디자인 생성\n",
    "        simulation_runner.create_icepak()       \n",
    "\n",
    "        # 12. Icepak 해석 설정\n",
    "        simulation_runner.setup_icepak_analysis()\n",
    "\n",
    "        # 13. Icepak 해석 실행\n",
    "        simulation_runner.analyze_icepak()\n",
    "\n",
    "        # 14. Icepak 결과 리포팅\n",
    "        simulation_runner.get_icepak_results()\n",
    "\n",
    "        # 15. 결과 저장\n",
    "        simulation_runner.save_results_to_csv(simulation_runner.results_df)\n",
    "\n",
    "        if test == False :\n",
    "\n",
    "            simulation_runner.close_project()\n",
    "            simulation_runner.delete_project_folder()\n",
    "\n",
    "    except Exception as e:\n",
    "        pd.set_option('display.max_rows', None)\n",
    "        pd.set_option('display.max_columns', None)\n",
    "        pd.set_option('display.width', None)\n",
    "        \n",
    "        err_info = f\"error : {simulation_runner.PROJECT_NAME}\\n\"\n",
    "        try:\n",
    "            err_info += f\"input : {simulation_runner.input_df.to_string()}\\n\"\n",
    "        except AttributeError:\n",
    "            err_info += \"input : Not available\\n\"\n",
    "        \n",
    "        err_info += f\"{str(e)}\\n\"\n",
    "        err_info += traceback.format_exc()\n",
    "\n",
    "        print(err_info, file=sys.stderr)\n",
    "        sys.stderr.flush()\n",
    "        \n",
    "        logging.error(err_info, exc_info=True)\n",
    "        \n",
    "        save_error_log(simulation_runner.PROJECT_NAME, err_info)\n",
    "        \n",
    "        print(f\"{simulation_runner.PROJECT_NAME} : {i} simulation Failed\")\n",
    "        \n",
    "        simulation_runner.desktop.release_desktop(close_projects=True, close_on_exit=True)\n",
    "\n",
    "        time.sleep(10)"
   ]
  },
  {
   "cell_type": "code",
   "execution_count": null,
   "metadata": {},
   "outputs": [],
   "source": [
    "simulation_runner.icepak_design.boundaries[1].properties[\"X Velocity\"] = \"10m_per_sec\""
   ]
  },
  {
   "cell_type": "code",
   "execution_count": null,
   "metadata": {},
   "outputs": [],
   "source": [
    "simulation_runner.maxwell_design"
   ]
  },
  {
   "cell_type": "code",
   "execution_count": null,
   "metadata": {},
   "outputs": [],
   "source": [
    "excitation_name=[simulation_runner.maxwell_design.Tx_winding.name, simulation_runner.maxwell_design.Rx_winding1.name, simulation_runner.maxwell_design.Rx_winding2.name]\n",
    "\n",
    "simulation_runner.maxwell_design2.get_excitation(excitation_name)"
   ]
  },
  {
   "cell_type": "code",
   "execution_count": null,
   "metadata": {},
   "outputs": [],
   "source": [
    "simulation_runner.maxwell_design.skin_depth_mesh.properties\n",
    "\n",
    "simulation_runner.maxwell_design.excitation_objects\n",
    "\n",
    "for name, bound_obj in simulation_runner.maxwell_design.excitation_objects.items():\n",
    "    print(f\"{name}: {bound_obj}\")"
   ]
  },
  {
   "cell_type": "code",
   "execution_count": null,
   "metadata": {},
   "outputs": [],
   "source": [
    "pd.set_option('display.max_columns', None)\n",
    "pd.set_option('display.max_rows', None)\n",
    "pd.set_option('display.width', None)\n",
    "simulation_runner.results_df"
   ]
  },
  {
   "cell_type": "code",
   "execution_count": null,
   "metadata": {},
   "outputs": [],
   "source": [
    "simulation_runner.maxwell_design.Tx_winding[\"Current\"]"
   ]
  },
  {
   "cell_type": "code",
   "execution_count": null,
   "metadata": {},
   "outputs": [],
   "source": [
    "import run_simulation\n",
    "\n",
    "# 1. Simulation 클래스의 인스턴스를 생성합니다.\n",
    "simulation_runner = run_simulation.Simulation()\n",
    "\n",
    "# 2. create_design 메서드를 호출하여 프로젝트와 디자인을 초기화합니다.\n",
    "simulation_runner.create_design(\"SST_MFT\")\n",
    "\n",
    "# 3. 이제 입력 매개변수를 생성할 수 있습니다.\n",
    "input_parameters2 = simulation_runner.create_input_parameter()\n",
    "import numpy as np\n",
    "\n",
    "# Define the keys in the correct order\n",
    "keys = [\n",
    "    \"N1\", \"N2\", \"N1_layer\", \"N2_layer\", \"per\", \"w1\", \"l1\", \"l2\", \"l2_gap\", \"h1\",\n",
    "    \"h1_gap\", \"h2_gap\", \"N1_height_ratio\", \"N1_fill_factor\", \"N1_coil_diameter\",\n",
    "    \"N1_coil_zgap\", \"N2_height_ratio\", \"N2_fill_factor\", \"N2_coil_diameter\",\n",
    "    \"N2_coil_zgap\", \"N1_space_w\", \"N1_space_l\", \"N2_space_w\", \"N2_space_l\",\n",
    "    \"N1_layer_gap\", \"N2_layer_gap\", \"N1_offset_ratio\", \"N2_offset_ratio\",\n",
    "    \"N1_offset\", \"N2_offset\", \"cold_plate_x\", \"cold_plate_y\", \"cold_plate_z1\",\n",
    "    \"cold_plate_z2\", \"mold_thick\", \"thermal_conductivity\"\n",
    "]\n",
    "\n",
    "# Input values\n",
    "values = [6.0,6.0,1.0,1.0,3000.0,284.0,23.1,67.08827428571428,5.0,111.2,20.016,5.893599999999999,0.64,0.94,9.556845714285714,0.7116800000000012,0.8,0.75,9.531428571428572,3.706666666666668,20.0,20.0,7.3,3.0,5.2,9.9,0.0,-0.47,0.0,-5.226399999999998,0.0,0.8,11.0,0.0,20.0,0.4]\n",
    "\n",
    "# Convert to dictionary with np.float64 values\n",
    "input_parameters = {k: np.float64(v) for k, v in zip(keys, values)}\n",
    "\n",
    "# 4. 생성된 파라미터를 Simulation 객체와 Ansys 디자인에 설정합니다.\n",
    "simulation_runner.set_variable(input_parameters)\n",
    "\n",
    "# 5. 해석 설정 및 실행\n",
    "simulation_runner.set_maxwell_analysis()\n",
    "\n",
    "# 6. 모델을 생성합니다.\n",
    "simulation_runner.create_core()\n",
    "simulation_runner.create_face(simulation_runner.maxwell_design)\n",
    "simulation_runner.create_windings()\n",
    "simulation_runner.create_mold()\n",
    "simulation_runner.create_cold_plate()\n",
    "simulation_runner.create_air()\n",
    "\n",
    "# 7. 메쉬 및 경계조건 설정\n",
    "simulation_runner.assign_meshing()\n",
    "simulation_runner.assign_excitations()\n",
    "\n",
    "# 8. 해석 설정 및 실행\n",
    "simulation_runner.analyze_maxwell()\n",
    "\n",
    "# 9. 결과 리포팅\n",
    "simulation_runner.get_simulation_results(input=True)\n",
    "\n",
    "# 10. 두 번째 해석 실행\n",
    "simulation_runner.second_simulation()\n",
    "\n",
    "# 11. Icepak 디자인 생성\n",
    "simulation_runner.create_icepak()       \n",
    "\n",
    "# 12. Icepak 해석 설정\n",
    "simulation_runner.setup_icepak_analysis()\n",
    "\n",
    "# 13. Icepak 해석 실행\n",
    "simulation_runner.analyze_icepak()\n",
    "\n",
    "# 14. Icepak 결과 리포팅\n",
    "simulation_runner.get_icepak_results()\n",
    "\n",
    "\n"
   ]
  },
  {
   "cell_type": "code",
   "execution_count": null,
   "metadata": {},
   "outputs": [],
   "source": [
    "import pandas as pd\n",
    "\n",
    "pd.set_option('display.max_rows', None)\n",
    "pd.set_option('display.max_columns', None)\n",
    "pd.set_option('display.width', None)\n",
    "simulation_runner.results_df"
   ]
  },
  {
   "cell_type": "code",
   "execution_count": null,
   "metadata": {},
   "outputs": [],
   "source": [
    "simulation_runner.input_df"
   ]
  },
  {
   "cell_type": "code",
   "execution_count": null,
   "metadata": {},
   "outputs": [],
   "source": [
    "import run_simulation\n",
    "\n",
    "# 1. Simulation 클래스의 인스턴스를 생성합니다.\n",
    "simulation_runner = run_simulation.Simulation()\n",
    "\n",
    "# 2. create_design 메서드를 호출하여 프로젝트와 디자인을 초기화합니다.\n",
    "# 이 과정에서 내부에 self.design 객체가 생성됩니다.\n",
    "simulation_runner.create_design(\"SST_MFT\")\n",
    "\n",
    "# 3. 이제 입력 매개변수를 생성할 수 있습니다.\n",
    "# 이 메서드는 초기화된 design 객체를 사용하게 됩니다.\n",
    "#\n",
    "#param = [10,10,1,1,2331,297.1,15,88.24156818,23.8,65.5,6.8775,6.533625,0.5,0.74,2.203181818,0.8515,0.65,0.63,2.438386364,1.575275,27.5,9.9,5.1,18.6,3.1,4.8,0.58,0.43,9.4975,4.928875,2.4,13.2,21.4,0.32]\n",
    "input_parameters = simulation_runner.create_input_parameter(param_list=None)\n",
    "\n",
    "# 4. 생성된 파라미터를 Simulation 객체와 Ansys 디자인에 설정합니다.\n",
    "simulation_runner.set_variable(input_parameters)\n",
    "\n",
    "# 5. 해석 설정 및 실행\n",
    "simulation_runner.set_maxwell_analysis()\n",
    "\n",
    "# 6. 모델을 생성합니다.\n",
    "simulation_runner.create_core()\n",
    "simulation_runner.create_face(simulation_runner.maxwell_design)\n",
    "simulation_runner.create_windings()\n",
    "simulation_runner.create_mold()\n",
    "simulation_runner.create_cold_plate()\n",
    "simulation_runner.create_air()\n",
    "\n",
    "# 7. 메쉬 및 경계조건 설정\n",
    "simulation_runner.assign_meshing()\n",
    "simulation_runner.assign_excitations()\n",
    "\n",
    "# 8. 해석 설정 및 실행\n",
    "simulation_runner.analyze_maxwell()\n",
    "\n",
    "# 9. 결과 리포팅\n",
    "simulation_runner.get_simulation_results(input=True)\n",
    "\n",
    "# 10. 두 번째 해석 실행\n",
    "simulation_runner.second_simulation()\n",
    "\n",
    "# 11. Icepak 디자인 생성\n",
    "simulation_runner.create_icepak()       \n",
    "\n",
    "# 12. Icepak 해석 설정\n",
    "simulation_runner.setup_icepak_analysis()\n",
    "\n",
    "# 13. Icepak 해석 실행\n",
    "simulation_runner.analyze_icepak()\n",
    "\n",
    "# 14. Icepak 결과 리포팅\n",
    "simulation_runner.get_icepak_results()\n",
    "\n",
    "# 15. 결과 저장\n",
    "simulation_runner.save_results_to_csv(simulation_runner.results_df)\n",
    "\n",
    "\n"
   ]
  },
  {
   "cell_type": "code",
   "execution_count": null,
   "metadata": {},
   "outputs": [],
   "source": [
    "parameters = [\n",
    "    [simulation_runner.maxwell_design.winding1, f\"P_winding1\", \"EMLoss\"],\n",
    "    [simulation_runner.maxwell_design.winding2, f\"P_winding2\", \"EMLoss\"],\n",
    "    [simulation_runner.maxwell_design.core, f\"P_Core\", \"CoreLoss\"],\n",
    "    [simulation_runner.maxwell_design.leg_left , f\"B_mean_leg_left\", \"B_mean\"],\n",
    "    [simulation_runner.maxwell_design.leg_right, f\"B_mean_leg_right\", \"B_mean\"],\n",
    "    [simulation_runner.maxwell_design.leg_top, f\"B_mean_leg_top\", \"B_mean\"],\n",
    "    [simulation_runner.maxwell_design.leg_bottom, f\"B_mean_leg_bottom\", \"B_mean\"],\n",
    "]\n",
    "\n",
    "name_list = []\n",
    "result_expressions = []\n",
    "report = None\n",
    "\n",
    "result_expressions, name_list = simulation_runner.icepak_design._add_calculator_expression(parameters=parameters)"
   ]
  },
  {
   "cell_type": "code",
   "execution_count": null,
   "metadata": {},
   "outputs": [],
   "source": [
    "def get_calculator_parameter(self, dir=None, parameters=[], mod=\"write\", import_report=None) :\n",
    "        \"\"\"\n",
    "        example :\n",
    "        parameters2 = []\n",
    "        parameters2.append([winding1, \"P_LV\", \"EMLoss\"])\n",
    "        # ... (rest of example)\n",
    "        \"\"\"\n",
    "        name_list = []\n",
    "        result_expressions = []\n",
    "        report = None\n",
    "\n",
    "        if mod == \"write\" :\n",
    "            result_expressions, name_list = self._add_calculator_expression(parameters=parameters)\n",
    "            report = self._create_report(report_name = \"calculator_report\", result_expressions = result_expressions, category = \"Fields\")\n",
    "            if not hasattr(self, \"report_list\"):\n",
    "                self.report_list = {}\n",
    "            self.report_list[\"icepak_calc_report\"] = report\n",
    "        elif mod == \"read\" :\n",
    "            report = self.report_list.get(\"icepak_calc_report\", import_report)\n",
    "            # In \"read\" mode, reconstruct the expression and name lists for column mapping\n",
    "            for obj, name, expression_type in parameters:\n",
    "                name_list.append(name)\n",
    "                obj_name = obj.name if hasattr(obj, 'name') else obj\n",
    "                \n",
    "                if expression_type == \"Temp_max\":\n",
    "                    expr_name = f\"Temp_max_{obj_name}\"\n",
    "                elif expression_type == \"Temp_mean\":\n",
    "                    expr_name = f\"Temp_mean_{obj_name}\"\n",
    "                elif expression_type == \"B_mean\":\n",
    "                    expr_name = f\"B_mean_{obj_name}\"\n",
    "                else: \n",
    "                    expr_name = f\"P_{obj_name}\"\n",
    "                result_expressions.append(expr_name)\n",
    "        \n",
    "        if not report:\n",
    "             return None, pd.DataFrame(columns=[p[1] for p in parameters])\n",
    "\n",
    "        export_data = self.post.export_report_to_csv(project_dir=dir, plot_name=report.plot_name)\n",
    "        data = pd.read_csv(export_data)\n",
    "\n",
    "        # Create a mapping from the actual column names in the CSV to the desired names\n",
    "        rename_mapping = {}\n",
    "        for expr, desired_name in zip(result_expressions, name_list):\n",
    "            for col in data.columns:\n",
    "                if expr in col:\n",
    "                    rename_mapping[col] = desired_name\n",
    "                    break\n",
    "        \n",
    "        # Rename columns and select only the ones we need\n",
    "        output_df = data.rename(columns=rename_mapping)\n",
    "\n",
    "        # Ensure all desired columns exist, adding missing ones with NaN\n",
    "        for name in name_list:\n",
    "            if name not in output_df.columns:\n",
    "                output_df[name] = np.nan\n",
    "\n",
    "        output_df = output_df[name_list]\n",
    "        output_df.dropna(inplace=True)\n",
    "\n",
    "        output_df.to_csv(\"icepak_calculator.csv\")\n",
    "        \n",
    "        return report, output_df"
   ]
  },
  {
   "cell_type": "code",
   "execution_count": null,
   "metadata": {},
   "outputs": [],
   "source": [
    "import os\n",
    "\n",
    "from report import (\n",
    "    get_input_parameter, get_maxwell_magnetic_parameter,\n",
    "    get_maxwell_calculator_parameter, get_convergence_report, get_icepak_calculator_parameter\n",
    ")\n",
    "\n",
    "\n",
    "\n",
    "current_dir = os.getcwd()\n",
    "folder_path = os.path.join(current_dir, \"simulation\", f\"{simulation_runner.PROJECT_NAME}\")\n",
    "        \n",
    "        # Get results using the calculator\n",
    "# icepak_results_df = get_icepak_calculator_parameter(simulation_runner.icepak_design, dir=folder_path)  \n",
    "\n",
    "simulation_runner.icepak_design.winding1"
   ]
  },
  {
   "cell_type": "code",
   "execution_count": null,
   "metadata": {},
   "outputs": [],
   "source": [
    "\n",
    "params = [\n",
    "    [design.core, f\"Temp_max_core\", \"Temp_max\"],\n",
    "    [design.core, f\"Temp_mean_core\", \"Temp_mean\"],\n",
    "    [design.winding1, f\"Temp_max_winding1\", \"Temp_max\"],\n",
    "    [design.winding1, f\"Temp_mean_winding1\", \"Temp_mean\"],\n",
    "    [design.winding2, f\"Temp_max_winding2\", \"Temp_max\"],\n",
    "    [design.winding2, f\"Temp_mean_winding2\", \"Temp_mean\"],\n",
    "    [design.leg_left, f\"Temp_max_leg_left\", \"Temp_max\"],\n",
    "    [design.leg_right, f\"Temp_max_leg_right\", \"Temp_max\"],\n",
    "    [design.leg_top, f\"Temp_max_leg_top\", \"Temp_max\"],\n",
    "    [design.leg_bottom, f\"Temp_max_leg_bottom\", \"Temp_max\"],\n",
    "    [design.leg_left, f\"Temp_mean_leg_left\", \"Temp_mean\"],\n",
    "    [design.leg_right, f\"Temp_mean_leg_right\", \"Temp_mean\"],\n",
    "    [design.leg_top, f\"Temp_mean_leg_top\", \"Temp_mean\"],\n",
    "    [design.leg_bottom, f\"Temp_mean_leg_bottom\", \"Temp_mean\"],\n",
    "]\n",
    "\n",
    "df = design.get_calculator_parameter(dir=dir, parameters=params)\n",
    "\n",
    "\n",
    "\n"
   ]
  },
  {
   "cell_type": "code",
   "execution_count": null,
   "metadata": {},
   "outputs": [],
   "source": [
    "simulation_runner.w1"
   ]
  },
  {
   "cell_type": "code",
   "execution_count": null,
   "metadata": {},
   "outputs": [],
   "source": [
    "simulation_runner.winding1.faces"
   ]
  },
  {
   "cell_type": "code",
   "execution_count": null,
   "metadata": {},
   "outputs": [],
   "source": [
    "input_parameter = sim1.create_input_parameter()\n",
    "\n",
    "sim1.set_variable(input_parameter)\n"
   ]
  },
  {
   "cell_type": "code",
   "execution_count": null,
   "metadata": {},
   "outputs": [],
   "source": [
    "sim1.create_core()\n"
   ]
  },
  {
   "cell_type": "code",
   "execution_count": null,
   "metadata": {},
   "outputs": [],
   "source": []
  },
  {
   "cell_type": "code",
   "execution_count": null,
   "metadata": {},
   "outputs": [],
   "source": [
    "def offset_calculation(coil_diameter, h1, height_ratio, offset_z) :\n",
    "\n",
    "    plus = coil_diameter/2\n",
    "    minus = ((h1*height_ratio) - coil_diameter/2)\n",
    "\n",
    "    offset = (plus + minus)/2 - plus + offset_z\n",
    "    offset = (plus + minus)/2 - plus\n",
    "\n",
    "    return offset\n",
    "\n",
    "offset1 = offset_calculation(sim1.N1_coil_diameter, sim1.h1, sim1.N1_height_ratio, sim1.N1_offset)\n",
    "winding_params1 = {\n",
    "    \"N\" : sim1.N1,\n",
    "    \"N_layer\" : sim1.N1_layer,\n",
    "    \"x\" : \"w1 + 2*N1_space_w\",\n",
    "    \"y\" : \"l1 + 2*N1_space_l\",\n",
    "    \"coil_diameter\" : \"N1_coil_diameter\",\n",
    "    \"coil_zgap\" : \"N1_coil_zgap\",\n",
    "    \"coil_layer_x_gap\" : \"N1_layer_gap\",\n",
    "    \"coil_layer_y_gap\" : \"N1_layer_gap\",\n",
    "    \"color\" : [255, 50, 50],\n",
    "    \"transparency\" : 0,\n",
    "    \"offset\" : [\"0mm\", \"-(l1+l2)/2\", f\"{offset1}mm\"],\n",
    "    \"terminal_position\" : \"w1/2 + 150mm\",\n",
    "    \"Num\" : 18\n",
    "}\n",
    "sim1.create_winding(name=\"winding1\", **winding_params1)\n",
    "\n",
    "offset2 = offset_calculation(sim1.N2_coil_diameter, sim1.h1, sim1.N2_height_ratio, sim1.N2_offset)\n",
    "winding_params2 = {\n",
    "    \"N\" : sim1.N2,\n",
    "    \"N_layer\" : sim1.N2_layer,\n",
    "    \"x\" : \"w1 + 2*N2_space_w\",\n",
    "    \"y\" : \"l1 + 2*N2_space_l\",\n",
    "    \"coil_diameter\" : \"N2_coil_diameter\",\n",
    "    \"coil_zgap\" : \"N2_coil_zgap\",\n",
    "    \"coil_layer_x_gap\" : \"N2_layer_gap\",\n",
    "    \"coil_layer_y_gap\" : \"N2_layer_gap\",\n",
    "    \"color\" : [50, 50, 255],\n",
    "    \"transparency\" : 0,\n",
    "    \"offset\" : [\"0mm\", \"(l1+l2)/2\", f\"{offset2}mm\"],\n",
    "    \"terminal_position\" : \"w1/2 + 150mm\",\n",
    "    \"Num\" : 18\n",
    "}\n",
    "sim1.create_winding(name=\"winding2\", **winding_params2)"
   ]
  },
  {
   "cell_type": "code",
   "execution_count": null,
   "metadata": {},
   "outputs": [],
   "source": [
    "import subprocess\n",
    "import time\n",
    "import logging\n",
    "import os\n",
    "import platform\n",
    "\n",
    "logging.basicConfig(filename='run_debug.log', level=logging.DEBUG)\n",
    "\n",
    "script_name = \"run_simulation.py\"\n",
    "script_path = os.path.join(os.getcwd(), script_name)\n",
    "\n",
    "os_name = platform.system()\n",
    "if os_name == \"Windows\":\n",
    "    num_processes = 10 # number of subprocess\n",
    "else :\n",
    "    num_processes = 36 # number of subprocess\n",
    "\n",
    "\n",
    "processes = []\n",
    "\n",
    "log_dir = './simul_log'\n",
    "os.makedirs(log_dir, exist_ok=True)\n",
    "\n",
    "for i in range(num_processes):\n",
    "\n",
    "    file_path = \"simulog_num.txt\"\n",
    "\n",
    "    # 파일이 존재하지 않으면 생성\n",
    "    if not os.path.exists(file_path):\n",
    "        with open(file_path, \"w\", encoding=\"utf-8\") as file:\n",
    "            file.write(\"1\")\n",
    "\n",
    "    # 읽기/쓰기 모드로 파일 열기\n",
    "    with open(file_path, \"r+\", encoding=\"utf-8\") as file:\n",
    "\n",
    "            # 파일에서 값 읽기\n",
    "            content = int(file.read().strip())\n",
    "            content += 1\n",
    "\n",
    "            # 파일 포인터를 처음으로 되돌리고, 파일 내용 초기화 후 새 값 쓰기\n",
    "            file.seek(0)\n",
    "            file.truncate()\n",
    "            file.write(str(content))\n",
    "\n",
    "    log_file = open(f'./simul_log/process_{content}.log', 'w')\n",
    "    p = subprocess.Popen(\n",
    "        f'python {script_path}',\n",
    "        shell=True,\n",
    "        stdout=log_file,\n",
    "        stderr=subprocess.STDOUT\n",
    "    )\n",
    "    processes.append((p, log_file))\n",
    "    time.sleep(30)\n",
    "\n",
    "for idx, (p, log_file) in enumerate(processes):\n",
    "    p.wait()\n",
    "    log_file.write(f\"\\nProcess {idx} finished with return code {p.returncode}\\n\")\n",
    "    log_file.close()\n"
   ]
  }
 ],
 "metadata": {
  "kernelspec": {
   "display_name": "pyaedt_015",
   "language": "python",
   "name": "python3"
  },
  "language_info": {
   "codemirror_mode": {
    "name": "ipython",
    "version": 3
   },
   "file_extension": ".py",
   "mimetype": "text/x-python",
   "name": "python",
   "nbconvert_exporter": "python",
   "pygments_lexer": "ipython3",
   "version": "3.11.11"
  }
 },
 "nbformat": 4,
 "nbformat_minor": 2
}
